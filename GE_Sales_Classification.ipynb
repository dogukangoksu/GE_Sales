{
  "nbformat": 4,
  "nbformat_minor": 0,
  "metadata": {
    "colab": {
      "name": "GE_Sales_Classification.ipynb",
      "provenance": [],
      "collapsed_sections": []
    },
    "kernelspec": {
      "name": "python3",
      "display_name": "Python 3"
    }
  },
  "cells": [
    {
      "cell_type": "code",
      "metadata": {
        "id": "v-FO856TadEo"
      },
      "source": [
        "import pandas as pd\n",
        "import numpy as np\n",
        "import matplotlib.pyplot as plt\n",
        "from sklearn.model_selection import train_test_split\n",
        "from sklearn.decomposition import PCA\n",
        "from mpl_toolkits.mplot3d import Axes3D\n",
        "from sklearn.svm import SVC\n",
        "from sklearn.metrics import confusion_matrix"
      ],
      "execution_count": null,
      "outputs": []
    },
    {
      "cell_type": "code",
      "metadata": {
        "colab": {
          "base_uri": "https://localhost:8080/",
          "height": 204
        },
        "id": "_8syJd-Vaxp_",
        "outputId": "5731902b-2203-4141-af0e-da9c4988166b"
      },
      "source": [
        "df = pd.read_csv('sales_dataset.csv')\n",
        "df.head()"
      ],
      "execution_count": null,
      "outputs": [
        {
          "output_type": "execute_result",
          "data": {
            "text/html": [
              "<div>\n",
              "<style scoped>\n",
              "    .dataframe tbody tr th:only-of-type {\n",
              "        vertical-align: middle;\n",
              "    }\n",
              "\n",
              "    .dataframe tbody tr th {\n",
              "        vertical-align: top;\n",
              "    }\n",
              "\n",
              "    .dataframe thead th {\n",
              "        text-align: right;\n",
              "    }\n",
              "</style>\n",
              "<table border=\"1\" class=\"dataframe\">\n",
              "  <thead>\n",
              "    <tr style=\"text-align: right;\">\n",
              "      <th></th>\n",
              "      <th>Month</th>\n",
              "      <th>Sales</th>\n",
              "    </tr>\n",
              "  </thead>\n",
              "  <tbody>\n",
              "    <tr>\n",
              "      <th>0</th>\n",
              "      <td>1984-01</td>\n",
              "      <td>2815</td>\n",
              "    </tr>\n",
              "    <tr>\n",
              "      <th>1</th>\n",
              "      <td>1984-02</td>\n",
              "      <td>2672</td>\n",
              "    </tr>\n",
              "    <tr>\n",
              "      <th>2</th>\n",
              "      <td>1984-03</td>\n",
              "      <td>2755</td>\n",
              "    </tr>\n",
              "    <tr>\n",
              "      <th>3</th>\n",
              "      <td>1984-04</td>\n",
              "      <td>2721</td>\n",
              "    </tr>\n",
              "    <tr>\n",
              "      <th>4</th>\n",
              "      <td>1984-05</td>\n",
              "      <td>2946</td>\n",
              "    </tr>\n",
              "  </tbody>\n",
              "</table>\n",
              "</div>"
            ],
            "text/plain": [
              "     Month  Sales\n",
              "0  1984-01   2815\n",
              "1  1984-02   2672\n",
              "2  1984-03   2755\n",
              "3  1984-04   2721\n",
              "4  1984-05   2946"
            ]
          },
          "metadata": {
            "tags": []
          },
          "execution_count": 2
        }
      ]
    },
    {
      "cell_type": "code",
      "metadata": {
        "colab": {
          "base_uri": "https://localhost:8080/",
          "height": 204
        },
        "id": "HlWrCIZfbM5K",
        "outputId": "b6385aff-9fbf-4a7e-e696-7453858947fc"
      },
      "source": [
        "df['Month']= pd.to_datetime(df['Month'])\n",
        "df.head()"
      ],
      "execution_count": null,
      "outputs": [
        {
          "output_type": "execute_result",
          "data": {
            "text/html": [
              "<div>\n",
              "<style scoped>\n",
              "    .dataframe tbody tr th:only-of-type {\n",
              "        vertical-align: middle;\n",
              "    }\n",
              "\n",
              "    .dataframe tbody tr th {\n",
              "        vertical-align: top;\n",
              "    }\n",
              "\n",
              "    .dataframe thead th {\n",
              "        text-align: right;\n",
              "    }\n",
              "</style>\n",
              "<table border=\"1\" class=\"dataframe\">\n",
              "  <thead>\n",
              "    <tr style=\"text-align: right;\">\n",
              "      <th></th>\n",
              "      <th>Month</th>\n",
              "      <th>Sales</th>\n",
              "    </tr>\n",
              "  </thead>\n",
              "  <tbody>\n",
              "    <tr>\n",
              "      <th>0</th>\n",
              "      <td>1984-01-01</td>\n",
              "      <td>2815</td>\n",
              "    </tr>\n",
              "    <tr>\n",
              "      <th>1</th>\n",
              "      <td>1984-02-01</td>\n",
              "      <td>2672</td>\n",
              "    </tr>\n",
              "    <tr>\n",
              "      <th>2</th>\n",
              "      <td>1984-03-01</td>\n",
              "      <td>2755</td>\n",
              "    </tr>\n",
              "    <tr>\n",
              "      <th>3</th>\n",
              "      <td>1984-04-01</td>\n",
              "      <td>2721</td>\n",
              "    </tr>\n",
              "    <tr>\n",
              "      <th>4</th>\n",
              "      <td>1984-05-01</td>\n",
              "      <td>2946</td>\n",
              "    </tr>\n",
              "  </tbody>\n",
              "</table>\n",
              "</div>"
            ],
            "text/plain": [
              "       Month  Sales\n",
              "0 1984-01-01   2815\n",
              "1 1984-02-01   2672\n",
              "2 1984-03-01   2755\n",
              "3 1984-04-01   2721\n",
              "4 1984-05-01   2946"
            ]
          },
          "metadata": {
            "tags": []
          },
          "execution_count": 3
        }
      ]
    },
    {
      "cell_type": "code",
      "metadata": {
        "colab": {
          "base_uri": "https://localhost:8080/",
          "height": 297
        },
        "id": "E7kDufAScBw-",
        "outputId": "6c564b2d-4def-4d70-db50-22bd2eeddd91"
      },
      "source": [
        "df.describe()"
      ],
      "execution_count": null,
      "outputs": [
        {
          "output_type": "execute_result",
          "data": {
            "text/html": [
              "<div>\n",
              "<style scoped>\n",
              "    .dataframe tbody tr th:only-of-type {\n",
              "        vertical-align: middle;\n",
              "    }\n",
              "\n",
              "    .dataframe tbody tr th {\n",
              "        vertical-align: top;\n",
              "    }\n",
              "\n",
              "    .dataframe thead th {\n",
              "        text-align: right;\n",
              "    }\n",
              "</style>\n",
              "<table border=\"1\" class=\"dataframe\">\n",
              "  <thead>\n",
              "    <tr style=\"text-align: right;\">\n",
              "      <th></th>\n",
              "      <th>Sales</th>\n",
              "    </tr>\n",
              "  </thead>\n",
              "  <tbody>\n",
              "    <tr>\n",
              "      <th>count</th>\n",
              "      <td>105.000000</td>\n",
              "    </tr>\n",
              "    <tr>\n",
              "      <th>mean</th>\n",
              "      <td>4761.152381</td>\n",
              "    </tr>\n",
              "    <tr>\n",
              "      <th>std</th>\n",
              "      <td>2553.502601</td>\n",
              "    </tr>\n",
              "    <tr>\n",
              "      <th>min</th>\n",
              "      <td>1413.000000</td>\n",
              "    </tr>\n",
              "    <tr>\n",
              "      <th>25%</th>\n",
              "      <td>3113.000000</td>\n",
              "    </tr>\n",
              "    <tr>\n",
              "      <th>50%</th>\n",
              "      <td>4217.000000</td>\n",
              "    </tr>\n",
              "    <tr>\n",
              "      <th>75%</th>\n",
              "      <td>5221.000000</td>\n",
              "    </tr>\n",
              "    <tr>\n",
              "      <th>max</th>\n",
              "      <td>13916.000000</td>\n",
              "    </tr>\n",
              "  </tbody>\n",
              "</table>\n",
              "</div>"
            ],
            "text/plain": [
              "              Sales\n",
              "count    105.000000\n",
              "mean    4761.152381\n",
              "std     2553.502601\n",
              "min     1413.000000\n",
              "25%     3113.000000\n",
              "50%     4217.000000\n",
              "75%     5221.000000\n",
              "max    13916.000000"
            ]
          },
          "metadata": {
            "tags": []
          },
          "execution_count": 4
        }
      ]
    },
    {
      "cell_type": "code",
      "metadata": {
        "colab": {
          "base_uri": "https://localhost:8080/"
        },
        "id": "eiTWckvAcK2p",
        "outputId": "7de982a1-ff51-432d-bcb2-474c529f0e6e"
      },
      "source": [
        "threshold = np.mean(df.Sales) + 2.19*np.std(df.Sales)\n",
        "flag = [1 if sales > threshold else 0 for sales in df.Sales]\n",
        "sum(flag)"
      ],
      "execution_count": null,
      "outputs": [
        {
          "output_type": "execute_result",
          "data": {
            "text/plain": [
              "6"
            ]
          },
          "metadata": {
            "tags": []
          },
          "execution_count": 5
        }
      ]
    },
    {
      "cell_type": "code",
      "metadata": {
        "colab": {
          "base_uri": "https://localhost:8080/"
        },
        "id": "sGPpBP6Wm8oB",
        "outputId": "3fd4c158-52ab-4813-9686-765b57e2262f"
      },
      "source": [
        "print(flag)"
      ],
      "execution_count": null,
      "outputs": [
        {
          "output_type": "stream",
          "text": [
            "[0, 0, 0, 0, 0, 0, 0, 0, 0, 0, 0, 0, 0, 0, 0, 0, 0, 0, 0, 0, 0, 0, 0, 0, 0, 0, 0, 0, 0, 0, 0, 0, 0, 0, 0, 0, 0, 0, 0, 0, 0, 0, 0, 0, 0, 0, 0, 1, 0, 0, 0, 0, 0, 0, 0, 0, 0, 0, 0, 1, 0, 0, 0, 0, 0, 0, 0, 0, 0, 0, 1, 1, 0, 0, 0, 0, 0, 0, 0, 0, 0, 0, 0, 1, 0, 0, 0, 0, 0, 0, 0, 0, 0, 0, 0, 1, 0, 0, 0, 0, 0, 0, 0, 0, 0]\n"
          ],
          "name": "stdout"
        }
      ]
    },
    {
      "cell_type": "code",
      "metadata": {
        "colab": {
          "base_uri": "https://localhost:8080/",
          "height": 235
        },
        "id": "HuLbQy2smELy",
        "outputId": "e8c1e021-fed8-434b-eb0d-25906e06daca"
      },
      "source": [
        "flag = pd.Series(flag)\n",
        "df_new = pd.concat([df, flag],axis=1)\n",
        "df_new.rename(columns={0:'flag'}, inplace=True)\n",
        "df_flag = df_new[df_new.flag == 1]\n",
        "df_flag"
      ],
      "execution_count": null,
      "outputs": [
        {
          "output_type": "execute_result",
          "data": {
            "text/html": [
              "<div>\n",
              "<style scoped>\n",
              "    .dataframe tbody tr th:only-of-type {\n",
              "        vertical-align: middle;\n",
              "    }\n",
              "\n",
              "    .dataframe tbody tr th {\n",
              "        vertical-align: top;\n",
              "    }\n",
              "\n",
              "    .dataframe thead th {\n",
              "        text-align: right;\n",
              "    }\n",
              "</style>\n",
              "<table border=\"1\" class=\"dataframe\">\n",
              "  <thead>\n",
              "    <tr style=\"text-align: right;\">\n",
              "      <th></th>\n",
              "      <th>Month</th>\n",
              "      <th>Sales</th>\n",
              "      <th>flag</th>\n",
              "    </tr>\n",
              "  </thead>\n",
              "  <tbody>\n",
              "    <tr>\n",
              "      <th>47</th>\n",
              "      <td>1987-12-01</td>\n",
              "      <td>10651</td>\n",
              "      <td>1</td>\n",
              "    </tr>\n",
              "    <tr>\n",
              "      <th>59</th>\n",
              "      <td>1988-12-01</td>\n",
              "      <td>11331</td>\n",
              "      <td>1</td>\n",
              "    </tr>\n",
              "    <tr>\n",
              "      <th>70</th>\n",
              "      <td>1989-11-01</td>\n",
              "      <td>10803</td>\n",
              "      <td>1</td>\n",
              "    </tr>\n",
              "    <tr>\n",
              "      <th>71</th>\n",
              "      <td>1989-12-01</td>\n",
              "      <td>13916</td>\n",
              "      <td>1</td>\n",
              "    </tr>\n",
              "    <tr>\n",
              "      <th>83</th>\n",
              "      <td>1990-12-01</td>\n",
              "      <td>13076</td>\n",
              "      <td>1</td>\n",
              "    </tr>\n",
              "    <tr>\n",
              "      <th>95</th>\n",
              "      <td>1991-12-01</td>\n",
              "      <td>12670</td>\n",
              "      <td>1</td>\n",
              "    </tr>\n",
              "  </tbody>\n",
              "</table>\n",
              "</div>"
            ],
            "text/plain": [
              "        Month  Sales  flag\n",
              "47 1987-12-01  10651     1\n",
              "59 1988-12-01  11331     1\n",
              "70 1989-11-01  10803     1\n",
              "71 1989-12-01  13916     1\n",
              "83 1990-12-01  13076     1\n",
              "95 1991-12-01  12670     1"
            ]
          },
          "metadata": {
            "tags": []
          },
          "execution_count": 7
        }
      ]
    },
    {
      "cell_type": "code",
      "metadata": {
        "colab": {
          "base_uri": "https://localhost:8080/",
          "height": 483
        },
        "id": "vfRJjCEPj3uh",
        "outputId": "0fd2b57e-6057-4cdf-be79-baa6edc6c8d7"
      },
      "source": [
        "plt.figure(figsize=(10,8))\n",
        "plt.plot(df_new.Month, df_new.Sales, color='g')\n",
        "plt.scatter(df_flag.Month, df_flag.Sales, color='r')\n",
        "plt.show()"
      ],
      "execution_count": null,
      "outputs": [
        {
          "output_type": "display_data",
          "data": {
            "image/png": "[encoded data removed]",
            "text/plain": [
              "<Figure size 720x576 with 1 Axes>"
            ]
          },
          "metadata": {
            "tags": [],
            "needs_background": "light"
          }
        }
      ]
    },
    {
      "cell_type": "code",
      "metadata": {
        "colab": {
          "base_uri": "https://localhost:8080/",
          "height": 421
        },
        "id": "aUcuRcnY38ot",
        "outputId": "133ab523-c528-41e3-e142-27c314f3899d"
      },
      "source": [
        "df.iloc[12:24]"
      ],
      "execution_count": null,
      "outputs": [
        {
          "output_type": "execute_result",
          "data": {
            "text/html": [
              "<div>\n",
              "<style scoped>\n",
              "    .dataframe tbody tr th:only-of-type {\n",
              "        vertical-align: middle;\n",
              "    }\n",
              "\n",
              "    .dataframe tbody tr th {\n",
              "        vertical-align: top;\n",
              "    }\n",
              "\n",
              "    .dataframe thead th {\n",
              "        text-align: right;\n",
              "    }\n",
              "</style>\n",
              "<table border=\"1\" class=\"dataframe\">\n",
              "  <thead>\n",
              "    <tr style=\"text-align: right;\">\n",
              "      <th></th>\n",
              "      <th>Month</th>\n",
              "      <th>Sales</th>\n",
              "    </tr>\n",
              "  </thead>\n",
              "  <tbody>\n",
              "    <tr>\n",
              "      <th>12</th>\n",
              "      <td>1985-01-01</td>\n",
              "      <td>2541</td>\n",
              "    </tr>\n",
              "    <tr>\n",
              "      <th>13</th>\n",
              "      <td>1985-02-01</td>\n",
              "      <td>2475</td>\n",
              "    </tr>\n",
              "    <tr>\n",
              "      <th>14</th>\n",
              "      <td>1985-03-01</td>\n",
              "      <td>3031</td>\n",
              "    </tr>\n",
              "    <tr>\n",
              "      <th>15</th>\n",
              "      <td>1985-04-01</td>\n",
              "      <td>3266</td>\n",
              "    </tr>\n",
              "    <tr>\n",
              "      <th>16</th>\n",
              "      <td>1985-05-01</td>\n",
              "      <td>3776</td>\n",
              "    </tr>\n",
              "    <tr>\n",
              "      <th>17</th>\n",
              "      <td>1985-06-01</td>\n",
              "      <td>3230</td>\n",
              "    </tr>\n",
              "    <tr>\n",
              "      <th>18</th>\n",
              "      <td>1985-07-01</td>\n",
              "      <td>3028</td>\n",
              "    </tr>\n",
              "    <tr>\n",
              "      <th>19</th>\n",
              "      <td>1985-08-01</td>\n",
              "      <td>1759</td>\n",
              "    </tr>\n",
              "    <tr>\n",
              "      <th>20</th>\n",
              "      <td>1985-09-01</td>\n",
              "      <td>3595</td>\n",
              "    </tr>\n",
              "    <tr>\n",
              "      <th>21</th>\n",
              "      <td>1985-10-01</td>\n",
              "      <td>4474</td>\n",
              "    </tr>\n",
              "    <tr>\n",
              "      <th>22</th>\n",
              "      <td>1985-11-01</td>\n",
              "      <td>6838</td>\n",
              "    </tr>\n",
              "    <tr>\n",
              "      <th>23</th>\n",
              "      <td>1985-12-01</td>\n",
              "      <td>8357</td>\n",
              "    </tr>\n",
              "  </tbody>\n",
              "</table>\n",
              "</div>"
            ],
            "text/plain": [
              "        Month  Sales\n",
              "12 1985-01-01   2541\n",
              "13 1985-02-01   2475\n",
              "14 1985-03-01   3031\n",
              "15 1985-04-01   3266\n",
              "16 1985-05-01   3776\n",
              "17 1985-06-01   3230\n",
              "18 1985-07-01   3028\n",
              "19 1985-08-01   1759\n",
              "20 1985-09-01   3595\n",
              "21 1985-10-01   4474\n",
              "22 1985-11-01   6838\n",
              "23 1985-12-01   8357"
            ]
          },
          "metadata": {
            "tags": []
          },
          "execution_count": 9
        }
      ]
    },
    {
      "cell_type": "code",
      "metadata": {
        "id": "ZudJCd5ot9Dv"
      },
      "source": [
        "eighty_four = df.iloc[0:12]\n",
        "eighty_five = df.iloc[12:24]\n",
        "eighty_six  = df.iloc[24:36]\n",
        "eighty_seven= df.iloc[36:48]\n",
        "eighty_eight= df.iloc[48:60]\n",
        "eighty_nine = df.iloc[60:72]\n",
        "ninety      = df.iloc[72:84]\n",
        "ninety_one  = df.iloc[84:96]\n",
        "ninety_two  = df.iloc[96:105]"
      ],
      "execution_count": null,
      "outputs": []
    },
    {
      "cell_type": "code",
      "metadata": {
        "colab": {
          "base_uri": "https://localhost:8080/",
          "height": 421
        },
        "id": "tnRzGkL8e8Ci",
        "outputId": "814be88d-0bdd-43d0-c221-510661db02fa"
      },
      "source": [
        "eighty_four"
      ],
      "execution_count": null,
      "outputs": [
        {
          "output_type": "execute_result",
          "data": {
            "text/html": [
              "<div>\n",
              "<style scoped>\n",
              "    .dataframe tbody tr th:only-of-type {\n",
              "        vertical-align: middle;\n",
              "    }\n",
              "\n",
              "    .dataframe tbody tr th {\n",
              "        vertical-align: top;\n",
              "    }\n",
              "\n",
              "    .dataframe thead th {\n",
              "        text-align: right;\n",
              "    }\n",
              "</style>\n",
              "<table border=\"1\" class=\"dataframe\">\n",
              "  <thead>\n",
              "    <tr style=\"text-align: right;\">\n",
              "      <th></th>\n",
              "      <th>Month</th>\n",
              "      <th>Sales</th>\n",
              "    </tr>\n",
              "  </thead>\n",
              "  <tbody>\n",
              "    <tr>\n",
              "      <th>0</th>\n",
              "      <td>1984-01-01</td>\n",
              "      <td>2815</td>\n",
              "    </tr>\n",
              "    <tr>\n",
              "      <th>1</th>\n",
              "      <td>1984-02-01</td>\n",
              "      <td>2672</td>\n",
              "    </tr>\n",
              "    <tr>\n",
              "      <th>2</th>\n",
              "      <td>1984-03-01</td>\n",
              "      <td>2755</td>\n",
              "    </tr>\n",
              "    <tr>\n",
              "      <th>3</th>\n",
              "      <td>1984-04-01</td>\n",
              "      <td>2721</td>\n",
              "    </tr>\n",
              "    <tr>\n",
              "      <th>4</th>\n",
              "      <td>1984-05-01</td>\n",
              "      <td>2946</td>\n",
              "    </tr>\n",
              "    <tr>\n",
              "      <th>5</th>\n",
              "      <td>1984-06-01</td>\n",
              "      <td>3036</td>\n",
              "    </tr>\n",
              "    <tr>\n",
              "      <th>6</th>\n",
              "      <td>1984-07-01</td>\n",
              "      <td>2282</td>\n",
              "    </tr>\n",
              "    <tr>\n",
              "      <th>7</th>\n",
              "      <td>1984-08-01</td>\n",
              "      <td>2212</td>\n",
              "    </tr>\n",
              "    <tr>\n",
              "      <th>8</th>\n",
              "      <td>1984-09-01</td>\n",
              "      <td>2922</td>\n",
              "    </tr>\n",
              "    <tr>\n",
              "      <th>9</th>\n",
              "      <td>1984-10-01</td>\n",
              "      <td>4301</td>\n",
              "    </tr>\n",
              "    <tr>\n",
              "      <th>10</th>\n",
              "      <td>1984-11-01</td>\n",
              "      <td>5764</td>\n",
              "    </tr>\n",
              "    <tr>\n",
              "      <th>11</th>\n",
              "      <td>1984-12-01</td>\n",
              "      <td>7312</td>\n",
              "    </tr>\n",
              "  </tbody>\n",
              "</table>\n",
              "</div>"
            ],
            "text/plain": [
              "        Month  Sales\n",
              "0  1984-01-01   2815\n",
              "1  1984-02-01   2672\n",
              "2  1984-03-01   2755\n",
              "3  1984-04-01   2721\n",
              "4  1984-05-01   2946\n",
              "5  1984-06-01   3036\n",
              "6  1984-07-01   2282\n",
              "7  1984-08-01   2212\n",
              "8  1984-09-01   2922\n",
              "9  1984-10-01   4301\n",
              "10 1984-11-01   5764\n",
              "11 1984-12-01   7312"
            ]
          },
          "metadata": {
            "tags": []
          },
          "execution_count": 11
        }
      ]
    },
    {
      "cell_type": "code",
      "metadata": {
        "colab": {
          "base_uri": "https://localhost:8080/",
          "height": 421
        },
        "id": "KkZ8tuKAe750",
        "outputId": "a6e1748d-d316-4bae-f108-bfc4f4a05746"
      },
      "source": [
        "eighty_five"
      ],
      "execution_count": null,
      "outputs": [
        {
          "output_type": "execute_result",
          "data": {
            "text/html": [
              "<div>\n",
              "<style scoped>\n",
              "    .dataframe tbody tr th:only-of-type {\n",
              "        vertical-align: middle;\n",
              "    }\n",
              "\n",
              "    .dataframe tbody tr th {\n",
              "        vertical-align: top;\n",
              "    }\n",
              "\n",
              "    .dataframe thead th {\n",
              "        text-align: right;\n",
              "    }\n",
              "</style>\n",
              "<table border=\"1\" class=\"dataframe\">\n",
              "  <thead>\n",
              "    <tr style=\"text-align: right;\">\n",
              "      <th></th>\n",
              "      <th>Month</th>\n",
              "      <th>Sales</th>\n",
              "    </tr>\n",
              "  </thead>\n",
              "  <tbody>\n",
              "    <tr>\n",
              "      <th>12</th>\n",
              "      <td>1985-01-01</td>\n",
              "      <td>2541</td>\n",
              "    </tr>\n",
              "    <tr>\n",
              "      <th>13</th>\n",
              "      <td>1985-02-01</td>\n",
              "      <td>2475</td>\n",
              "    </tr>\n",
              "    <tr>\n",
              "      <th>14</th>\n",
              "      <td>1985-03-01</td>\n",
              "      <td>3031</td>\n",
              "    </tr>\n",
              "    <tr>\n",
              "      <th>15</th>\n",
              "      <td>1985-04-01</td>\n",
              "      <td>3266</td>\n",
              "    </tr>\n",
              "    <tr>\n",
              "      <th>16</th>\n",
              "      <td>1985-05-01</td>\n",
              "      <td>3776</td>\n",
              "    </tr>\n",
              "    <tr>\n",
              "      <th>17</th>\n",
              "      <td>1985-06-01</td>\n",
              "      <td>3230</td>\n",
              "    </tr>\n",
              "    <tr>\n",
              "      <th>18</th>\n",
              "      <td>1985-07-01</td>\n",
              "      <td>3028</td>\n",
              "    </tr>\n",
              "    <tr>\n",
              "      <th>19</th>\n",
              "      <td>1985-08-01</td>\n",
              "      <td>1759</td>\n",
              "    </tr>\n",
              "    <tr>\n",
              "      <th>20</th>\n",
              "      <td>1985-09-01</td>\n",
              "      <td>3595</td>\n",
              "    </tr>\n",
              "    <tr>\n",
              "      <th>21</th>\n",
              "      <td>1985-10-01</td>\n",
              "      <td>4474</td>\n",
              "    </tr>\n",
              "    <tr>\n",
              "      <th>22</th>\n",
              "      <td>1985-11-01</td>\n",
              "      <td>6838</td>\n",
              "    </tr>\n",
              "    <tr>\n",
              "      <th>23</th>\n",
              "      <td>1985-12-01</td>\n",
              "      <td>8357</td>\n",
              "    </tr>\n",
              "  </tbody>\n",
              "</table>\n",
              "</div>"
            ],
            "text/plain": [
              "        Month  Sales\n",
              "12 1985-01-01   2541\n",
              "13 1985-02-01   2475\n",
              "14 1985-03-01   3031\n",
              "15 1985-04-01   3266\n",
              "16 1985-05-01   3776\n",
              "17 1985-06-01   3230\n",
              "18 1985-07-01   3028\n",
              "19 1985-08-01   1759\n",
              "20 1985-09-01   3595\n",
              "21 1985-10-01   4474\n",
              "22 1985-11-01   6838\n",
              "23 1985-12-01   8357"
            ]
          },
          "metadata": {
            "tags": []
          },
          "execution_count": 12
        }
      ]
    },
    {
      "cell_type": "code",
      "metadata": {
        "colab": {
          "base_uri": "https://localhost:8080/",
          "height": 328
        },
        "id": "Ud9QOPsThluv",
        "outputId": "d1ff236e-2be2-4ce5-a176-ed9801064772"
      },
      "source": [
        "ninety_two"
      ],
      "execution_count": null,
      "outputs": [
        {
          "output_type": "execute_result",
          "data": {
            "text/html": [
              "<div>\n",
              "<style scoped>\n",
              "    .dataframe tbody tr th:only-of-type {\n",
              "        vertical-align: middle;\n",
              "    }\n",
              "\n",
              "    .dataframe tbody tr th {\n",
              "        vertical-align: top;\n",
              "    }\n",
              "\n",
              "    .dataframe thead th {\n",
              "        text-align: right;\n",
              "    }\n",
              "</style>\n",
              "<table border=\"1\" class=\"dataframe\">\n",
              "  <thead>\n",
              "    <tr style=\"text-align: right;\">\n",
              "      <th></th>\n",
              "      <th>Month</th>\n",
              "      <th>Sales</th>\n",
              "    </tr>\n",
              "  </thead>\n",
              "  <tbody>\n",
              "    <tr>\n",
              "      <th>96</th>\n",
              "      <td>1992-01-01</td>\n",
              "      <td>4348</td>\n",
              "    </tr>\n",
              "    <tr>\n",
              "      <th>97</th>\n",
              "      <td>1992-02-01</td>\n",
              "      <td>3564</td>\n",
              "    </tr>\n",
              "    <tr>\n",
              "      <th>98</th>\n",
              "      <td>1992-03-01</td>\n",
              "      <td>4577</td>\n",
              "    </tr>\n",
              "    <tr>\n",
              "      <th>99</th>\n",
              "      <td>1992-04-01</td>\n",
              "      <td>4788</td>\n",
              "    </tr>\n",
              "    <tr>\n",
              "      <th>100</th>\n",
              "      <td>1992-05-01</td>\n",
              "      <td>4618</td>\n",
              "    </tr>\n",
              "    <tr>\n",
              "      <th>101</th>\n",
              "      <td>1992-06-01</td>\n",
              "      <td>5312</td>\n",
              "    </tr>\n",
              "    <tr>\n",
              "      <th>102</th>\n",
              "      <td>1992-07-01</td>\n",
              "      <td>4298</td>\n",
              "    </tr>\n",
              "    <tr>\n",
              "      <th>103</th>\n",
              "      <td>1992-08-01</td>\n",
              "      <td>1413</td>\n",
              "    </tr>\n",
              "    <tr>\n",
              "      <th>104</th>\n",
              "      <td>1992-09-01</td>\n",
              "      <td>5877</td>\n",
              "    </tr>\n",
              "  </tbody>\n",
              "</table>\n",
              "</div>"
            ],
            "text/plain": [
              "         Month  Sales\n",
              "96  1992-01-01   4348\n",
              "97  1992-02-01   3564\n",
              "98  1992-03-01   4577\n",
              "99  1992-04-01   4788\n",
              "100 1992-05-01   4618\n",
              "101 1992-06-01   5312\n",
              "102 1992-07-01   4298\n",
              "103 1992-08-01   1413\n",
              "104 1992-09-01   5877"
            ]
          },
          "metadata": {
            "tags": []
          },
          "execution_count": 13
        }
      ]
    },
    {
      "cell_type": "code",
      "metadata": {
        "id": "XhLt9qrs_gja"
      },
      "source": [
        "def detect_peak(df):\n",
        "  df.reset_index(drop=True, inplace=True)\n",
        "  threshold = np.mean(df.Sales) + 2.19*np.std(df.Sales)\n",
        "  flag = [1 if sales > threshold else 0 for sales in df.Sales]\n",
        "  flag = pd.Series(flag)\n",
        "  df_new = pd.concat([df, flag],axis=1)\n",
        "  df_new.rename(columns={0:'flag'}, inplace=True)\n",
        "  print(f'{sum(flag)} peak(s) detected.')\n",
        "  print('='*28)\n",
        "  return df_new"
      ],
      "execution_count": null,
      "outputs": []
    },
    {
      "cell_type": "code",
      "metadata": {
        "id": "UU8LTsLIHP15"
      },
      "source": [
        "dataframes = {\n",
        "    'eighty_four':eighty_four,\n",
        "    'eighty_five':eighty_five,\n",
        "    'eighty_six' :eighty_six,\n",
        "    'eighty_seven':eighty_seven,\n",
        "    'eighty_eight':eighty_eight,\n",
        "    'eighty_nine':eighty_nine,\n",
        "    'ninety'     :ninety,\n",
        "    'ninety_one' :ninety_one,\n",
        "    'ninety_two' :ninety_two\n",
        "    }"
      ],
      "execution_count": null,
      "outputs": []
    },
    {
      "cell_type": "code",
      "metadata": {
        "colab": {
          "base_uri": "https://localhost:8080/"
        },
        "id": "yXs3XuoHLPOW",
        "outputId": "17de1487-23e9-45e2-8032-c75862038368"
      },
      "source": [
        "dataframes.keys()"
      ],
      "execution_count": null,
      "outputs": [
        {
          "output_type": "execute_result",
          "data": {
            "text/plain": [
              "dict_keys(['eighty_four', 'eighty_five', 'eighty_six', 'eighty_seven', 'eighty_eight', 'eighty_nine', 'ninety', 'ninety_one', 'ninety_two'])"
            ]
          },
          "metadata": {
            "tags": []
          },
          "execution_count": 16
        }
      ]
    },
    {
      "cell_type": "code",
      "metadata": {
        "colab": {
          "base_uri": "https://localhost:8080/"
        },
        "id": "Wv4ARJOLIANB",
        "outputId": "415c7e7f-83f5-4180-a5a4-6631c1eb3d94"
      },
      "source": [
        "flag_dfs = {}\n",
        "for key, df in dataframes.items():\n",
        "  print(key)\n",
        "  flag_dfs[key] = detect_peak(df)"
      ],
      "execution_count": null,
      "outputs": [
        {
          "output_type": "stream",
          "text": [
            "eighty_four\n",
            "1 peak(s) detected.\n",
            "============================\n",
            "eighty_five\n",
            "1 peak(s) detected.\n",
            "============================\n",
            "eighty_six\n",
            "1 peak(s) detected.\n",
            "============================\n",
            "eighty_seven\n",
            "1 peak(s) detected.\n",
            "============================\n",
            "eighty_eight\n",
            "1 peak(s) detected.\n",
            "============================\n",
            "eighty_nine\n",
            "1 peak(s) detected.\n",
            "============================\n",
            "ninety\n",
            "1 peak(s) detected.\n",
            "============================\n",
            "ninety_one\n",
            "1 peak(s) detected.\n",
            "============================\n",
            "ninety_two\n",
            "0 peak(s) detected.\n",
            "============================\n"
          ],
          "name": "stdout"
        }
      ]
    },
    {
      "cell_type": "code",
      "metadata": {
        "colab": {
          "base_uri": "https://localhost:8080/"
        },
        "id": "uq22MQ8qK-t8",
        "outputId": "fdd520c5-34a6-4eeb-b6e1-7b0631ac1889"
      },
      "source": [
        "flag_dfs.keys()"
      ],
      "execution_count": null,
      "outputs": [
        {
          "output_type": "execute_result",
          "data": {
            "text/plain": [
              "dict_keys(['eighty_four', 'eighty_five', 'eighty_six', 'eighty_seven', 'eighty_eight', 'eighty_nine', 'ninety', 'ninety_one', 'ninety_two'])"
            ]
          },
          "metadata": {
            "tags": []
          },
          "execution_count": 18
        }
      ]
    },
    {
      "cell_type": "code",
      "metadata": {
        "colab": {
          "base_uri": "https://localhost:8080/",
          "height": 421
        },
        "id": "A7YStTZQMfN1",
        "outputId": "142ebe19-0db1-4baf-d646-34d2f1d5c9b7"
      },
      "source": [
        "flag_dfs['eighty_nine']"
      ],
      "execution_count": null,
      "outputs": [
        {
          "output_type": "execute_result",
          "data": {
            "text/html": [
              "<div>\n",
              "<style scoped>\n",
              "    .dataframe tbody tr th:only-of-type {\n",
              "        vertical-align: middle;\n",
              "    }\n",
              "\n",
              "    .dataframe tbody tr th {\n",
              "        vertical-align: top;\n",
              "    }\n",
              "\n",
              "    .dataframe thead th {\n",
              "        text-align: right;\n",
              "    }\n",
              "</style>\n",
              "<table border=\"1\" class=\"dataframe\">\n",
              "  <thead>\n",
              "    <tr style=\"text-align: right;\">\n",
              "      <th></th>\n",
              "      <th>Month</th>\n",
              "      <th>Sales</th>\n",
              "      <th>flag</th>\n",
              "    </tr>\n",
              "  </thead>\n",
              "  <tbody>\n",
              "    <tr>\n",
              "      <th>0</th>\n",
              "      <td>1989-01-01</td>\n",
              "      <td>4016</td>\n",
              "      <td>0</td>\n",
              "    </tr>\n",
              "    <tr>\n",
              "      <th>1</th>\n",
              "      <td>1989-02-01</td>\n",
              "      <td>3957</td>\n",
              "      <td>0</td>\n",
              "    </tr>\n",
              "    <tr>\n",
              "      <th>2</th>\n",
              "      <td>1989-03-01</td>\n",
              "      <td>4510</td>\n",
              "      <td>0</td>\n",
              "    </tr>\n",
              "    <tr>\n",
              "      <th>3</th>\n",
              "      <td>1989-04-01</td>\n",
              "      <td>4276</td>\n",
              "      <td>0</td>\n",
              "    </tr>\n",
              "    <tr>\n",
              "      <th>4</th>\n",
              "      <td>1989-05-01</td>\n",
              "      <td>4968</td>\n",
              "      <td>0</td>\n",
              "    </tr>\n",
              "    <tr>\n",
              "      <th>5</th>\n",
              "      <td>1989-06-01</td>\n",
              "      <td>4677</td>\n",
              "      <td>0</td>\n",
              "    </tr>\n",
              "    <tr>\n",
              "      <th>6</th>\n",
              "      <td>1989-07-01</td>\n",
              "      <td>3523</td>\n",
              "      <td>0</td>\n",
              "    </tr>\n",
              "    <tr>\n",
              "      <th>7</th>\n",
              "      <td>1989-08-01</td>\n",
              "      <td>1821</td>\n",
              "      <td>0</td>\n",
              "    </tr>\n",
              "    <tr>\n",
              "      <th>8</th>\n",
              "      <td>1989-09-01</td>\n",
              "      <td>5222</td>\n",
              "      <td>0</td>\n",
              "    </tr>\n",
              "    <tr>\n",
              "      <th>9</th>\n",
              "      <td>1989-10-01</td>\n",
              "      <td>6872</td>\n",
              "      <td>0</td>\n",
              "    </tr>\n",
              "    <tr>\n",
              "      <th>10</th>\n",
              "      <td>1989-11-01</td>\n",
              "      <td>10803</td>\n",
              "      <td>0</td>\n",
              "    </tr>\n",
              "    <tr>\n",
              "      <th>11</th>\n",
              "      <td>1989-12-01</td>\n",
              "      <td>13916</td>\n",
              "      <td>1</td>\n",
              "    </tr>\n",
              "  </tbody>\n",
              "</table>\n",
              "</div>"
            ],
            "text/plain": [
              "        Month  Sales  flag\n",
              "0  1989-01-01   4016     0\n",
              "1  1989-02-01   3957     0\n",
              "2  1989-03-01   4510     0\n",
              "3  1989-04-01   4276     0\n",
              "4  1989-05-01   4968     0\n",
              "5  1989-06-01   4677     0\n",
              "6  1989-07-01   3523     0\n",
              "7  1989-08-01   1821     0\n",
              "8  1989-09-01   5222     0\n",
              "9  1989-10-01   6872     0\n",
              "10 1989-11-01  10803     0\n",
              "11 1989-12-01  13916     1"
            ]
          },
          "metadata": {
            "tags": []
          },
          "execution_count": 19
        }
      ]
    },
    {
      "cell_type": "code",
      "metadata": {
        "colab": {
          "base_uri": "https://localhost:8080/"
        },
        "id": "Y9OrrM3HUDIO",
        "outputId": "846c248d-673e-404f-f874-1ce46086a82e"
      },
      "source": [
        "flag_dfs.keys()"
      ],
      "execution_count": null,
      "outputs": [
        {
          "output_type": "execute_result",
          "data": {
            "text/plain": [
              "dict_keys(['eighty_four', 'eighty_five', 'eighty_six', 'eighty_seven', 'eighty_eight', 'eighty_nine', 'ninety', 'ninety_one', 'ninety_two'])"
            ]
          },
          "metadata": {
            "tags": []
          },
          "execution_count": 20
        }
      ]
    },
    {
      "cell_type": "code",
      "metadata": {
        "colab": {
          "base_uri": "https://localhost:8080/",
          "height": 421
        },
        "id": "xg1-t_SHUrud",
        "outputId": "420a61bf-b769-4a72-a34e-b8e949b5d88d"
      },
      "source": [
        "pd.DataFrame(flag_dfs['eighty_four'])"
      ],
      "execution_count": null,
      "outputs": [
        {
          "output_type": "execute_result",
          "data": {
            "text/html": [
              "<div>\n",
              "<style scoped>\n",
              "    .dataframe tbody tr th:only-of-type {\n",
              "        vertical-align: middle;\n",
              "    }\n",
              "\n",
              "    .dataframe tbody tr th {\n",
              "        vertical-align: top;\n",
              "    }\n",
              "\n",
              "    .dataframe thead th {\n",
              "        text-align: right;\n",
              "    }\n",
              "</style>\n",
              "<table border=\"1\" class=\"dataframe\">\n",
              "  <thead>\n",
              "    <tr style=\"text-align: right;\">\n",
              "      <th></th>\n",
              "      <th>Month</th>\n",
              "      <th>Sales</th>\n",
              "      <th>flag</th>\n",
              "    </tr>\n",
              "  </thead>\n",
              "  <tbody>\n",
              "    <tr>\n",
              "      <th>0</th>\n",
              "      <td>1984-01-01</td>\n",
              "      <td>2815</td>\n",
              "      <td>0</td>\n",
              "    </tr>\n",
              "    <tr>\n",
              "      <th>1</th>\n",
              "      <td>1984-02-01</td>\n",
              "      <td>2672</td>\n",
              "      <td>0</td>\n",
              "    </tr>\n",
              "    <tr>\n",
              "      <th>2</th>\n",
              "      <td>1984-03-01</td>\n",
              "      <td>2755</td>\n",
              "      <td>0</td>\n",
              "    </tr>\n",
              "    <tr>\n",
              "      <th>3</th>\n",
              "      <td>1984-04-01</td>\n",
              "      <td>2721</td>\n",
              "      <td>0</td>\n",
              "    </tr>\n",
              "    <tr>\n",
              "      <th>4</th>\n",
              "      <td>1984-05-01</td>\n",
              "      <td>2946</td>\n",
              "      <td>0</td>\n",
              "    </tr>\n",
              "    <tr>\n",
              "      <th>5</th>\n",
              "      <td>1984-06-01</td>\n",
              "      <td>3036</td>\n",
              "      <td>0</td>\n",
              "    </tr>\n",
              "    <tr>\n",
              "      <th>6</th>\n",
              "      <td>1984-07-01</td>\n",
              "      <td>2282</td>\n",
              "      <td>0</td>\n",
              "    </tr>\n",
              "    <tr>\n",
              "      <th>7</th>\n",
              "      <td>1984-08-01</td>\n",
              "      <td>2212</td>\n",
              "      <td>0</td>\n",
              "    </tr>\n",
              "    <tr>\n",
              "      <th>8</th>\n",
              "      <td>1984-09-01</td>\n",
              "      <td>2922</td>\n",
              "      <td>0</td>\n",
              "    </tr>\n",
              "    <tr>\n",
              "      <th>9</th>\n",
              "      <td>1984-10-01</td>\n",
              "      <td>4301</td>\n",
              "      <td>0</td>\n",
              "    </tr>\n",
              "    <tr>\n",
              "      <th>10</th>\n",
              "      <td>1984-11-01</td>\n",
              "      <td>5764</td>\n",
              "      <td>0</td>\n",
              "    </tr>\n",
              "    <tr>\n",
              "      <th>11</th>\n",
              "      <td>1984-12-01</td>\n",
              "      <td>7312</td>\n",
              "      <td>1</td>\n",
              "    </tr>\n",
              "  </tbody>\n",
              "</table>\n",
              "</div>"
            ],
            "text/plain": [
              "        Month  Sales  flag\n",
              "0  1984-01-01   2815     0\n",
              "1  1984-02-01   2672     0\n",
              "2  1984-03-01   2755     0\n",
              "3  1984-04-01   2721     0\n",
              "4  1984-05-01   2946     0\n",
              "5  1984-06-01   3036     0\n",
              "6  1984-07-01   2282     0\n",
              "7  1984-08-01   2212     0\n",
              "8  1984-09-01   2922     0\n",
              "9  1984-10-01   4301     0\n",
              "10 1984-11-01   5764     0\n",
              "11 1984-12-01   7312     1"
            ]
          },
          "metadata": {
            "tags": []
          },
          "execution_count": 21
        }
      ]
    },
    {
      "cell_type": "code",
      "metadata": {
        "colab": {
          "base_uri": "https://localhost:8080/"
        },
        "id": "BLpfMiW2UM4b",
        "outputId": "063b6e91-6709-44f3-e4ec-b4ae7aba95ea"
      },
      "source": [
        "for key in flag_dfs.keys():\n",
        "  name = key + '_flag'\n",
        "  print(name)\n",
        "  name = pd.DataFrame(flag_dfs[key])"
      ],
      "execution_count": null,
      "outputs": [
        {
          "output_type": "stream",
          "text": [
            "eighty_four_flag\n",
            "eighty_five_flag\n",
            "eighty_six_flag\n",
            "eighty_seven_flag\n",
            "eighty_eight_flag\n",
            "eighty_nine_flag\n",
            "ninety_flag\n",
            "ninety_one_flag\n",
            "ninety_two_flag\n"
          ],
          "name": "stdout"
        }
      ]
    },
    {
      "cell_type": "code",
      "metadata": {
        "colab": {
          "base_uri": "https://localhost:8080/",
          "height": 421
        },
        "id": "lSJ7QcebtXGr",
        "outputId": "69d6d657-a101-4b5a-d6d3-03a188ec8c37"
      },
      "source": [
        "flag_dfs['eighty_four']"
      ],
      "execution_count": null,
      "outputs": [
        {
          "output_type": "execute_result",
          "data": {
            "text/html": [
              "<div>\n",
              "<style scoped>\n",
              "    .dataframe tbody tr th:only-of-type {\n",
              "        vertical-align: middle;\n",
              "    }\n",
              "\n",
              "    .dataframe tbody tr th {\n",
              "        vertical-align: top;\n",
              "    }\n",
              "\n",
              "    .dataframe thead th {\n",
              "        text-align: right;\n",
              "    }\n",
              "</style>\n",
              "<table border=\"1\" class=\"dataframe\">\n",
              "  <thead>\n",
              "    <tr style=\"text-align: right;\">\n",
              "      <th></th>\n",
              "      <th>Month</th>\n",
              "      <th>Sales</th>\n",
              "      <th>flag</th>\n",
              "    </tr>\n",
              "  </thead>\n",
              "  <tbody>\n",
              "    <tr>\n",
              "      <th>0</th>\n",
              "      <td>1984-01-01</td>\n",
              "      <td>2815</td>\n",
              "      <td>0</td>\n",
              "    </tr>\n",
              "    <tr>\n",
              "      <th>1</th>\n",
              "      <td>1984-02-01</td>\n",
              "      <td>2672</td>\n",
              "      <td>0</td>\n",
              "    </tr>\n",
              "    <tr>\n",
              "      <th>2</th>\n",
              "      <td>1984-03-01</td>\n",
              "      <td>2755</td>\n",
              "      <td>0</td>\n",
              "    </tr>\n",
              "    <tr>\n",
              "      <th>3</th>\n",
              "      <td>1984-04-01</td>\n",
              "      <td>2721</td>\n",
              "      <td>0</td>\n",
              "    </tr>\n",
              "    <tr>\n",
              "      <th>4</th>\n",
              "      <td>1984-05-01</td>\n",
              "      <td>2946</td>\n",
              "      <td>0</td>\n",
              "    </tr>\n",
              "    <tr>\n",
              "      <th>5</th>\n",
              "      <td>1984-06-01</td>\n",
              "      <td>3036</td>\n",
              "      <td>0</td>\n",
              "    </tr>\n",
              "    <tr>\n",
              "      <th>6</th>\n",
              "      <td>1984-07-01</td>\n",
              "      <td>2282</td>\n",
              "      <td>0</td>\n",
              "    </tr>\n",
              "    <tr>\n",
              "      <th>7</th>\n",
              "      <td>1984-08-01</td>\n",
              "      <td>2212</td>\n",
              "      <td>0</td>\n",
              "    </tr>\n",
              "    <tr>\n",
              "      <th>8</th>\n",
              "      <td>1984-09-01</td>\n",
              "      <td>2922</td>\n",
              "      <td>0</td>\n",
              "    </tr>\n",
              "    <tr>\n",
              "      <th>9</th>\n",
              "      <td>1984-10-01</td>\n",
              "      <td>4301</td>\n",
              "      <td>0</td>\n",
              "    </tr>\n",
              "    <tr>\n",
              "      <th>10</th>\n",
              "      <td>1984-11-01</td>\n",
              "      <td>5764</td>\n",
              "      <td>0</td>\n",
              "    </tr>\n",
              "    <tr>\n",
              "      <th>11</th>\n",
              "      <td>1984-12-01</td>\n",
              "      <td>7312</td>\n",
              "      <td>1</td>\n",
              "    </tr>\n",
              "  </tbody>\n",
              "</table>\n",
              "</div>"
            ],
            "text/plain": [
              "        Month  Sales  flag\n",
              "0  1984-01-01   2815     0\n",
              "1  1984-02-01   2672     0\n",
              "2  1984-03-01   2755     0\n",
              "3  1984-04-01   2721     0\n",
              "4  1984-05-01   2946     0\n",
              "5  1984-06-01   3036     0\n",
              "6  1984-07-01   2282     0\n",
              "7  1984-08-01   2212     0\n",
              "8  1984-09-01   2922     0\n",
              "9  1984-10-01   4301     0\n",
              "10 1984-11-01   5764     0\n",
              "11 1984-12-01   7312     1"
            ]
          },
          "metadata": {
            "tags": []
          },
          "execution_count": 23
        }
      ]
    },
    {
      "cell_type": "code",
      "metadata": {
        "colab": {
          "base_uri": "https://localhost:8080/",
          "height": 419
        },
        "id": "MU32BMP3uP9p",
        "outputId": "4c3d159d-7dc4-4c42-94cc-20729335c4a6"
      },
      "source": [
        "df = pd.read_csv('sales_dataset.csv')\n",
        "df"
      ],
      "execution_count": null,
      "outputs": [
        {
          "output_type": "execute_result",
          "data": {
            "text/html": [
              "<div>\n",
              "<style scoped>\n",
              "    .dataframe tbody tr th:only-of-type {\n",
              "        vertical-align: middle;\n",
              "    }\n",
              "\n",
              "    .dataframe tbody tr th {\n",
              "        vertical-align: top;\n",
              "    }\n",
              "\n",
              "    .dataframe thead th {\n",
              "        text-align: right;\n",
              "    }\n",
              "</style>\n",
              "<table border=\"1\" class=\"dataframe\">\n",
              "  <thead>\n",
              "    <tr style=\"text-align: right;\">\n",
              "      <th></th>\n",
              "      <th>Month</th>\n",
              "      <th>Sales</th>\n",
              "    </tr>\n",
              "  </thead>\n",
              "  <tbody>\n",
              "    <tr>\n",
              "      <th>0</th>\n",
              "      <td>1984-01</td>\n",
              "      <td>2815</td>\n",
              "    </tr>\n",
              "    <tr>\n",
              "      <th>1</th>\n",
              "      <td>1984-02</td>\n",
              "      <td>2672</td>\n",
              "    </tr>\n",
              "    <tr>\n",
              "      <th>2</th>\n",
              "      <td>1984-03</td>\n",
              "      <td>2755</td>\n",
              "    </tr>\n",
              "    <tr>\n",
              "      <th>3</th>\n",
              "      <td>1984-04</td>\n",
              "      <td>2721</td>\n",
              "    </tr>\n",
              "    <tr>\n",
              "      <th>4</th>\n",
              "      <td>1984-05</td>\n",
              "      <td>2946</td>\n",
              "    </tr>\n",
              "    <tr>\n",
              "      <th>...</th>\n",
              "      <td>...</td>\n",
              "      <td>...</td>\n",
              "    </tr>\n",
              "    <tr>\n",
              "      <th>100</th>\n",
              "      <td>1992-05</td>\n",
              "      <td>4618</td>\n",
              "    </tr>\n",
              "    <tr>\n",
              "      <th>101</th>\n",
              "      <td>1992-06</td>\n",
              "      <td>5312</td>\n",
              "    </tr>\n",
              "    <tr>\n",
              "      <th>102</th>\n",
              "      <td>1992-07</td>\n",
              "      <td>4298</td>\n",
              "    </tr>\n",
              "    <tr>\n",
              "      <th>103</th>\n",
              "      <td>1992-08</td>\n",
              "      <td>1413</td>\n",
              "    </tr>\n",
              "    <tr>\n",
              "      <th>104</th>\n",
              "      <td>1992-09</td>\n",
              "      <td>5877</td>\n",
              "    </tr>\n",
              "  </tbody>\n",
              "</table>\n",
              "<p>105 rows × 2 columns</p>\n",
              "</div>"
            ],
            "text/plain": [
              "       Month  Sales\n",
              "0    1984-01   2815\n",
              "1    1984-02   2672\n",
              "2    1984-03   2755\n",
              "3    1984-04   2721\n",
              "4    1984-05   2946\n",
              "..       ...    ...\n",
              "100  1992-05   4618\n",
              "101  1992-06   5312\n",
              "102  1992-07   4298\n",
              "103  1992-08   1413\n",
              "104  1992-09   5877\n",
              "\n",
              "[105 rows x 2 columns]"
            ]
          },
          "metadata": {
            "tags": []
          },
          "execution_count": 24
        }
      ]
    },
    {
      "cell_type": "code",
      "metadata": {
        "colab": {
          "base_uri": "https://localhost:8080/",
          "height": 419
        },
        "id": "cXc1a2B-UkHH",
        "outputId": "ca489af3-090e-4059-f496-27d7bb264a78"
      },
      "source": [
        "df_flagged = pd.concat(flag_dfs, axis=0).sum(axis=1, level=0)\n",
        "df_flagged.reset_index(drop=True, inplace=True)\n",
        "df_flagged.Month = df.Month\n",
        "df_flagged['Month'] = pd.to_datetime(df_flagged['Month'])\n",
        "df_flagged"
      ],
      "execution_count": null,
      "outputs": [
        {
          "output_type": "execute_result",
          "data": {
            "text/html": [
              "<div>\n",
              "<style scoped>\n",
              "    .dataframe tbody tr th:only-of-type {\n",
              "        vertical-align: middle;\n",
              "    }\n",
              "\n",
              "    .dataframe tbody tr th {\n",
              "        vertical-align: top;\n",
              "    }\n",
              "\n",
              "    .dataframe thead th {\n",
              "        text-align: right;\n",
              "    }\n",
              "</style>\n",
              "<table border=\"1\" class=\"dataframe\">\n",
              "  <thead>\n",
              "    <tr style=\"text-align: right;\">\n",
              "      <th></th>\n",
              "      <th>Month</th>\n",
              "      <th>Sales</th>\n",
              "      <th>flag</th>\n",
              "    </tr>\n",
              "  </thead>\n",
              "  <tbody>\n",
              "    <tr>\n",
              "      <th>0</th>\n",
              "      <td>1984-01-01</td>\n",
              "      <td>2815</td>\n",
              "      <td>0</td>\n",
              "    </tr>\n",
              "    <tr>\n",
              "      <th>1</th>\n",
              "      <td>1984-02-01</td>\n",
              "      <td>2672</td>\n",
              "      <td>0</td>\n",
              "    </tr>\n",
              "    <tr>\n",
              "      <th>2</th>\n",
              "      <td>1984-03-01</td>\n",
              "      <td>2755</td>\n",
              "      <td>0</td>\n",
              "    </tr>\n",
              "    <tr>\n",
              "      <th>3</th>\n",
              "      <td>1984-04-01</td>\n",
              "      <td>2721</td>\n",
              "      <td>0</td>\n",
              "    </tr>\n",
              "    <tr>\n",
              "      <th>4</th>\n",
              "      <td>1984-05-01</td>\n",
              "      <td>2946</td>\n",
              "      <td>0</td>\n",
              "    </tr>\n",
              "    <tr>\n",
              "      <th>...</th>\n",
              "      <td>...</td>\n",
              "      <td>...</td>\n",
              "      <td>...</td>\n",
              "    </tr>\n",
              "    <tr>\n",
              "      <th>100</th>\n",
              "      <td>1992-05-01</td>\n",
              "      <td>4618</td>\n",
              "      <td>0</td>\n",
              "    </tr>\n",
              "    <tr>\n",
              "      <th>101</th>\n",
              "      <td>1992-06-01</td>\n",
              "      <td>5312</td>\n",
              "      <td>0</td>\n",
              "    </tr>\n",
              "    <tr>\n",
              "      <th>102</th>\n",
              "      <td>1992-07-01</td>\n",
              "      <td>4298</td>\n",
              "      <td>0</td>\n",
              "    </tr>\n",
              "    <tr>\n",
              "      <th>103</th>\n",
              "      <td>1992-08-01</td>\n",
              "      <td>1413</td>\n",
              "      <td>0</td>\n",
              "    </tr>\n",
              "    <tr>\n",
              "      <th>104</th>\n",
              "      <td>1992-09-01</td>\n",
              "      <td>5877</td>\n",
              "      <td>0</td>\n",
              "    </tr>\n",
              "  </tbody>\n",
              "</table>\n",
              "<p>105 rows × 3 columns</p>\n",
              "</div>"
            ],
            "text/plain": [
              "         Month  Sales  flag\n",
              "0   1984-01-01   2815     0\n",
              "1   1984-02-01   2672     0\n",
              "2   1984-03-01   2755     0\n",
              "3   1984-04-01   2721     0\n",
              "4   1984-05-01   2946     0\n",
              "..         ...    ...   ...\n",
              "100 1992-05-01   4618     0\n",
              "101 1992-06-01   5312     0\n",
              "102 1992-07-01   4298     0\n",
              "103 1992-08-01   1413     0\n",
              "104 1992-09-01   5877     0\n",
              "\n",
              "[105 rows x 3 columns]"
            ]
          },
          "metadata": {
            "tags": []
          },
          "execution_count": 25
        }
      ]
    },
    {
      "cell_type": "code",
      "metadata": {
        "colab": {
          "base_uri": "https://localhost:8080/"
        },
        "id": "fcGA0PlSWLAd",
        "outputId": "829b5a62-a7c9-45f7-ab40-3bd690997644"
      },
      "source": [
        "sum(df_flagged.flag)"
      ],
      "execution_count": null,
      "outputs": [
        {
          "output_type": "execute_result",
          "data": {
            "text/plain": [
              "8"
            ]
          },
          "metadata": {
            "tags": []
          },
          "execution_count": 26
        }
      ]
    },
    {
      "cell_type": "code",
      "metadata": {
        "colab": {
          "base_uri": "https://localhost:8080/",
          "height": 483
        },
        "id": "0FVu24VpaLgS",
        "outputId": "c15e9ab6-89ae-41a7-acc3-b503bba1418e"
      },
      "source": [
        "plt.figure(figsize=(10,8))\n",
        "plt.plot(df_flagged.Month, df_flagged.Sales, color='g', linestyle='dashdot')\n",
        "plt.scatter(df_flagged[df_flagged.flag == 1].Month, df_flagged[df_flagged.flag == 1].Sales, color='r', marker='*', s=100)\n",
        "plt.show()"
      ],
      "execution_count": null,
      "outputs": [
        {
          "output_type": "display_data",
          "data": {
            "image/png": "[encoded data removed]",
            "text/plain": [
              "<Figure size 720x576 with 1 Axes>"
            ]
          },
          "metadata": {
            "tags": [],
            "needs_background": "light"
          }
        }
      ]
    },
    {
      "cell_type": "code",
      "metadata": {
        "colab": {
          "base_uri": "https://localhost:8080/",
          "height": 419
        },
        "id": "wnYtNKj1XqUq",
        "outputId": "0eace84a-754c-40de-83d5-4be9c2e1cb6c"
      },
      "source": [
        "df_flagged['t-1'] = df_flagged['Sales'].shift(1)\n",
        "df_flagged['t-2'] = df_flagged['Sales'].shift(2)\n",
        "df_flagged['t-3'] = df_flagged['Sales'].shift(3)\n",
        "df_flagged['t-4'] = df_flagged['Sales'].shift(4)\n",
        "df_flagged['t-5'] = df_flagged['Sales'].shift(5)\n",
        "df_flagged['t-6'] = df_flagged['Sales'].shift(6)\n",
        "df_flagged['t-7'] = df_flagged['Sales'].shift(7)\n",
        "df_flagged['t-8'] = df_flagged['Sales'].shift(8)\n",
        "df_flagged['t-9'] = df_flagged['Sales'].shift(9)\n",
        "df_flagged"
      ],
      "execution_count": null,
      "outputs": [
        {
          "output_type": "execute_result",
          "data": {
            "text/html": [
              "<div>\n",
              "<style scoped>\n",
              "    .dataframe tbody tr th:only-of-type {\n",
              "        vertical-align: middle;\n",
              "    }\n",
              "\n",
              "    .dataframe tbody tr th {\n",
              "        vertical-align: top;\n",
              "    }\n",
              "\n",
              "    .dataframe thead th {\n",
              "        text-align: right;\n",
              "    }\n",
              "</style>\n",
              "<table border=\"1\" class=\"dataframe\">\n",
              "  <thead>\n",
              "    <tr style=\"text-align: right;\">\n",
              "      <th></th>\n",
              "      <th>Month</th>\n",
              "      <th>Sales</th>\n",
              "      <th>flag</th>\n",
              "      <th>t-1</th>\n",
              "      <th>t-2</th>\n",
              "      <th>t-3</th>\n",
              "      <th>t-4</th>\n",
              "      <th>t-5</th>\n",
              "      <th>t-6</th>\n",
              "      <th>t-7</th>\n",
              "      <th>t-8</th>\n",
              "      <th>t-9</th>\n",
              "    </tr>\n",
              "  </thead>\n",
              "  <tbody>\n",
              "    <tr>\n",
              "      <th>0</th>\n",
              "      <td>1984-01-01</td>\n",
              "      <td>2815</td>\n",
              "      <td>0</td>\n",
              "      <td>NaN</td>\n",
              "      <td>NaN</td>\n",
              "      <td>NaN</td>\n",
              "      <td>NaN</td>\n",
              "      <td>NaN</td>\n",
              "      <td>NaN</td>\n",
              "      <td>NaN</td>\n",
              "      <td>NaN</td>\n",
              "      <td>NaN</td>\n",
              "    </tr>\n",
              "    <tr>\n",
              "      <th>1</th>\n",
              "      <td>1984-02-01</td>\n",
              "      <td>2672</td>\n",
              "      <td>0</td>\n",
              "      <td>2815.0</td>\n",
              "      <td>NaN</td>\n",
              "      <td>NaN</td>\n",
              "      <td>NaN</td>\n",
              "      <td>NaN</td>\n",
              "      <td>NaN</td>\n",
              "      <td>NaN</td>\n",
              "      <td>NaN</td>\n",
              "      <td>NaN</td>\n",
              "    </tr>\n",
              "    <tr>\n",
              "      <th>2</th>\n",
              "      <td>1984-03-01</td>\n",
              "      <td>2755</td>\n",
              "      <td>0</td>\n",
              "      <td>2672.0</td>\n",
              "      <td>2815.0</td>\n",
              "      <td>NaN</td>\n",
              "      <td>NaN</td>\n",
              "      <td>NaN</td>\n",
              "      <td>NaN</td>\n",
              "      <td>NaN</td>\n",
              "      <td>NaN</td>\n",
              "      <td>NaN</td>\n",
              "    </tr>\n",
              "    <tr>\n",
              "      <th>3</th>\n",
              "      <td>1984-04-01</td>\n",
              "      <td>2721</td>\n",
              "      <td>0</td>\n",
              "      <td>2755.0</td>\n",
              "      <td>2672.0</td>\n",
              "      <td>2815.0</td>\n",
              "      <td>NaN</td>\n",
              "      <td>NaN</td>\n",
              "      <td>NaN</td>\n",
              "      <td>NaN</td>\n",
              "      <td>NaN</td>\n",
              "      <td>NaN</td>\n",
              "    </tr>\n",
              "    <tr>\n",
              "      <th>4</th>\n",
              "      <td>1984-05-01</td>\n",
              "      <td>2946</td>\n",
              "      <td>0</td>\n",
              "      <td>2721.0</td>\n",
              "      <td>2755.0</td>\n",
              "      <td>2672.0</td>\n",
              "      <td>2815.0</td>\n",
              "      <td>NaN</td>\n",
              "      <td>NaN</td>\n",
              "      <td>NaN</td>\n",
              "      <td>NaN</td>\n",
              "      <td>NaN</td>\n",
              "    </tr>\n",
              "    <tr>\n",
              "      <th>...</th>\n",
              "      <td>...</td>\n",
              "      <td>...</td>\n",
              "      <td>...</td>\n",
              "      <td>...</td>\n",
              "      <td>...</td>\n",
              "      <td>...</td>\n",
              "      <td>...</td>\n",
              "      <td>...</td>\n",
              "      <td>...</td>\n",
              "      <td>...</td>\n",
              "      <td>...</td>\n",
              "      <td>...</td>\n",
              "    </tr>\n",
              "    <tr>\n",
              "      <th>100</th>\n",
              "      <td>1992-05-01</td>\n",
              "      <td>4618</td>\n",
              "      <td>0</td>\n",
              "      <td>4788.0</td>\n",
              "      <td>4577.0</td>\n",
              "      <td>3564.0</td>\n",
              "      <td>4348.0</td>\n",
              "      <td>12670.0</td>\n",
              "      <td>9851.0</td>\n",
              "      <td>6981.0</td>\n",
              "      <td>5951.0</td>\n",
              "      <td>1659.0</td>\n",
              "    </tr>\n",
              "    <tr>\n",
              "      <th>101</th>\n",
              "      <td>1992-06-01</td>\n",
              "      <td>5312</td>\n",
              "      <td>0</td>\n",
              "      <td>4618.0</td>\n",
              "      <td>4788.0</td>\n",
              "      <td>4577.0</td>\n",
              "      <td>3564.0</td>\n",
              "      <td>4348.0</td>\n",
              "      <td>12670.0</td>\n",
              "      <td>9851.0</td>\n",
              "      <td>6981.0</td>\n",
              "      <td>5951.0</td>\n",
              "    </tr>\n",
              "    <tr>\n",
              "      <th>102</th>\n",
              "      <td>1992-07-01</td>\n",
              "      <td>4298</td>\n",
              "      <td>0</td>\n",
              "      <td>5312.0</td>\n",
              "      <td>4618.0</td>\n",
              "      <td>4788.0</td>\n",
              "      <td>4577.0</td>\n",
              "      <td>3564.0</td>\n",
              "      <td>4348.0</td>\n",
              "      <td>12670.0</td>\n",
              "      <td>9851.0</td>\n",
              "      <td>6981.0</td>\n",
              "    </tr>\n",
              "    <tr>\n",
              "      <th>103</th>\n",
              "      <td>1992-08-01</td>\n",
              "      <td>1413</td>\n",
              "      <td>0</td>\n",
              "      <td>4298.0</td>\n",
              "      <td>5312.0</td>\n",
              "      <td>4618.0</td>\n",
              "      <td>4788.0</td>\n",
              "      <td>4577.0</td>\n",
              "      <td>3564.0</td>\n",
              "      <td>4348.0</td>\n",
              "      <td>12670.0</td>\n",
              "      <td>9851.0</td>\n",
              "    </tr>\n",
              "    <tr>\n",
              "      <th>104</th>\n",
              "      <td>1992-09-01</td>\n",
              "      <td>5877</td>\n",
              "      <td>0</td>\n",
              "      <td>1413.0</td>\n",
              "      <td>4298.0</td>\n",
              "      <td>5312.0</td>\n",
              "      <td>4618.0</td>\n",
              "      <td>4788.0</td>\n",
              "      <td>4577.0</td>\n",
              "      <td>3564.0</td>\n",
              "      <td>4348.0</td>\n",
              "      <td>12670.0</td>\n",
              "    </tr>\n",
              "  </tbody>\n",
              "</table>\n",
              "<p>105 rows × 12 columns</p>\n",
              "</div>"
            ],
            "text/plain": [
              "         Month  Sales  flag     t-1  ...      t-6      t-7      t-8      t-9\n",
              "0   1984-01-01   2815     0     NaN  ...      NaN      NaN      NaN      NaN\n",
              "1   1984-02-01   2672     0  2815.0  ...      NaN      NaN      NaN      NaN\n",
              "2   1984-03-01   2755     0  2672.0  ...      NaN      NaN      NaN      NaN\n",
              "3   1984-04-01   2721     0  2755.0  ...      NaN      NaN      NaN      NaN\n",
              "4   1984-05-01   2946     0  2721.0  ...      NaN      NaN      NaN      NaN\n",
              "..         ...    ...   ...     ...  ...      ...      ...      ...      ...\n",
              "100 1992-05-01   4618     0  4788.0  ...   9851.0   6981.0   5951.0   1659.0\n",
              "101 1992-06-01   5312     0  4618.0  ...  12670.0   9851.0   6981.0   5951.0\n",
              "102 1992-07-01   4298     0  5312.0  ...   4348.0  12670.0   9851.0   6981.0\n",
              "103 1992-08-01   1413     0  4298.0  ...   3564.0   4348.0  12670.0   9851.0\n",
              "104 1992-09-01   5877     0  1413.0  ...   4577.0   3564.0   4348.0  12670.0\n",
              "\n",
              "[105 rows x 12 columns]"
            ]
          },
          "metadata": {
            "tags": []
          },
          "execution_count": 28
        }
      ]
    },
    {
      "cell_type": "code",
      "metadata": {
        "colab": {
          "base_uri": "https://localhost:8080/",
          "height": 450
        },
        "id": "jFushkAsweRN",
        "outputId": "80f934ba-f581-4a13-dfdf-82463c5c14dd"
      },
      "source": [
        "df_flagged.dropna(inplace=True)\n",
        "df_flagged.reset_index(drop=True,inplace=True)\n",
        "df_flagged.set_index('Month', inplace=True)\n",
        "df_flagged"
      ],
      "execution_count": null,
      "outputs": [
        {
          "output_type": "execute_result",
          "data": {
            "text/html": [
              "<div>\n",
              "<style scoped>\n",
              "    .dataframe tbody tr th:only-of-type {\n",
              "        vertical-align: middle;\n",
              "    }\n",
              "\n",
              "    .dataframe tbody tr th {\n",
              "        vertical-align: top;\n",
              "    }\n",
              "\n",
              "    .dataframe thead th {\n",
              "        text-align: right;\n",
              "    }\n",
              "</style>\n",
              "<table border=\"1\" class=\"dataframe\">\n",
              "  <thead>\n",
              "    <tr style=\"text-align: right;\">\n",
              "      <th></th>\n",
              "      <th>Sales</th>\n",
              "      <th>flag</th>\n",
              "      <th>t-1</th>\n",
              "      <th>t-2</th>\n",
              "      <th>t-3</th>\n",
              "      <th>t-4</th>\n",
              "      <th>t-5</th>\n",
              "      <th>t-6</th>\n",
              "      <th>t-7</th>\n",
              "      <th>t-8</th>\n",
              "      <th>t-9</th>\n",
              "    </tr>\n",
              "    <tr>\n",
              "      <th>Month</th>\n",
              "      <th></th>\n",
              "      <th></th>\n",
              "      <th></th>\n",
              "      <th></th>\n",
              "      <th></th>\n",
              "      <th></th>\n",
              "      <th></th>\n",
              "      <th></th>\n",
              "      <th></th>\n",
              "      <th></th>\n",
              "      <th></th>\n",
              "    </tr>\n",
              "  </thead>\n",
              "  <tbody>\n",
              "    <tr>\n",
              "      <th>1984-10-01</th>\n",
              "      <td>4301</td>\n",
              "      <td>0</td>\n",
              "      <td>2922.0</td>\n",
              "      <td>2212.0</td>\n",
              "      <td>2282.0</td>\n",
              "      <td>3036.0</td>\n",
              "      <td>2946.0</td>\n",
              "      <td>2721.0</td>\n",
              "      <td>2755.0</td>\n",
              "      <td>2672.0</td>\n",
              "      <td>2815.0</td>\n",
              "    </tr>\n",
              "    <tr>\n",
              "      <th>1984-11-01</th>\n",
              "      <td>5764</td>\n",
              "      <td>0</td>\n",
              "      <td>4301.0</td>\n",
              "      <td>2922.0</td>\n",
              "      <td>2212.0</td>\n",
              "      <td>2282.0</td>\n",
              "      <td>3036.0</td>\n",
              "      <td>2946.0</td>\n",
              "      <td>2721.0</td>\n",
              "      <td>2755.0</td>\n",
              "      <td>2672.0</td>\n",
              "    </tr>\n",
              "    <tr>\n",
              "      <th>1984-12-01</th>\n",
              "      <td>7312</td>\n",
              "      <td>1</td>\n",
              "      <td>5764.0</td>\n",
              "      <td>4301.0</td>\n",
              "      <td>2922.0</td>\n",
              "      <td>2212.0</td>\n",
              "      <td>2282.0</td>\n",
              "      <td>3036.0</td>\n",
              "      <td>2946.0</td>\n",
              "      <td>2721.0</td>\n",
              "      <td>2755.0</td>\n",
              "    </tr>\n",
              "    <tr>\n",
              "      <th>1985-01-01</th>\n",
              "      <td>2541</td>\n",
              "      <td>0</td>\n",
              "      <td>7312.0</td>\n",
              "      <td>5764.0</td>\n",
              "      <td>4301.0</td>\n",
              "      <td>2922.0</td>\n",
              "      <td>2212.0</td>\n",
              "      <td>2282.0</td>\n",
              "      <td>3036.0</td>\n",
              "      <td>2946.0</td>\n",
              "      <td>2721.0</td>\n",
              "    </tr>\n",
              "    <tr>\n",
              "      <th>1985-02-01</th>\n",
              "      <td>2475</td>\n",
              "      <td>0</td>\n",
              "      <td>2541.0</td>\n",
              "      <td>7312.0</td>\n",
              "      <td>5764.0</td>\n",
              "      <td>4301.0</td>\n",
              "      <td>2922.0</td>\n",
              "      <td>2212.0</td>\n",
              "      <td>2282.0</td>\n",
              "      <td>3036.0</td>\n",
              "      <td>2946.0</td>\n",
              "    </tr>\n",
              "    <tr>\n",
              "      <th>...</th>\n",
              "      <td>...</td>\n",
              "      <td>...</td>\n",
              "      <td>...</td>\n",
              "      <td>...</td>\n",
              "      <td>...</td>\n",
              "      <td>...</td>\n",
              "      <td>...</td>\n",
              "      <td>...</td>\n",
              "      <td>...</td>\n",
              "      <td>...</td>\n",
              "      <td>...</td>\n",
              "    </tr>\n",
              "    <tr>\n",
              "      <th>1992-05-01</th>\n",
              "      <td>4618</td>\n",
              "      <td>0</td>\n",
              "      <td>4788.0</td>\n",
              "      <td>4577.0</td>\n",
              "      <td>3564.0</td>\n",
              "      <td>4348.0</td>\n",
              "      <td>12670.0</td>\n",
              "      <td>9851.0</td>\n",
              "      <td>6981.0</td>\n",
              "      <td>5951.0</td>\n",
              "      <td>1659.0</td>\n",
              "    </tr>\n",
              "    <tr>\n",
              "      <th>1992-06-01</th>\n",
              "      <td>5312</td>\n",
              "      <td>0</td>\n",
              "      <td>4618.0</td>\n",
              "      <td>4788.0</td>\n",
              "      <td>4577.0</td>\n",
              "      <td>3564.0</td>\n",
              "      <td>4348.0</td>\n",
              "      <td>12670.0</td>\n",
              "      <td>9851.0</td>\n",
              "      <td>6981.0</td>\n",
              "      <td>5951.0</td>\n",
              "    </tr>\n",
              "    <tr>\n",
              "      <th>1992-07-01</th>\n",
              "      <td>4298</td>\n",
              "      <td>0</td>\n",
              "      <td>5312.0</td>\n",
              "      <td>4618.0</td>\n",
              "      <td>4788.0</td>\n",
              "      <td>4577.0</td>\n",
              "      <td>3564.0</td>\n",
              "      <td>4348.0</td>\n",
              "      <td>12670.0</td>\n",
              "      <td>9851.0</td>\n",
              "      <td>6981.0</td>\n",
              "    </tr>\n",
              "    <tr>\n",
              "      <th>1992-08-01</th>\n",
              "      <td>1413</td>\n",
              "      <td>0</td>\n",
              "      <td>4298.0</td>\n",
              "      <td>5312.0</td>\n",
              "      <td>4618.0</td>\n",
              "      <td>4788.0</td>\n",
              "      <td>4577.0</td>\n",
              "      <td>3564.0</td>\n",
              "      <td>4348.0</td>\n",
              "      <td>12670.0</td>\n",
              "      <td>9851.0</td>\n",
              "    </tr>\n",
              "    <tr>\n",
              "      <th>1992-09-01</th>\n",
              "      <td>5877</td>\n",
              "      <td>0</td>\n",
              "      <td>1413.0</td>\n",
              "      <td>4298.0</td>\n",
              "      <td>5312.0</td>\n",
              "      <td>4618.0</td>\n",
              "      <td>4788.0</td>\n",
              "      <td>4577.0</td>\n",
              "      <td>3564.0</td>\n",
              "      <td>4348.0</td>\n",
              "      <td>12670.0</td>\n",
              "    </tr>\n",
              "  </tbody>\n",
              "</table>\n",
              "<p>96 rows × 11 columns</p>\n",
              "</div>"
            ],
            "text/plain": [
              "            Sales  flag     t-1     t-2  ...      t-6      t-7      t-8      t-9\n",
              "Month                                    ...                                    \n",
              "1984-10-01   4301     0  2922.0  2212.0  ...   2721.0   2755.0   2672.0   2815.0\n",
              "1984-11-01   5764     0  4301.0  2922.0  ...   2946.0   2721.0   2755.0   2672.0\n",
              "1984-12-01   7312     1  5764.0  4301.0  ...   3036.0   2946.0   2721.0   2755.0\n",
              "1985-01-01   2541     0  7312.0  5764.0  ...   2282.0   3036.0   2946.0   2721.0\n",
              "1985-02-01   2475     0  2541.0  7312.0  ...   2212.0   2282.0   3036.0   2946.0\n",
              "...           ...   ...     ...     ...  ...      ...      ...      ...      ...\n",
              "1992-05-01   4618     0  4788.0  4577.0  ...   9851.0   6981.0   5951.0   1659.0\n",
              "1992-06-01   5312     0  4618.0  4788.0  ...  12670.0   9851.0   6981.0   5951.0\n",
              "1992-07-01   4298     0  5312.0  4618.0  ...   4348.0  12670.0   9851.0   6981.0\n",
              "1992-08-01   1413     0  4298.0  5312.0  ...   3564.0   4348.0  12670.0   9851.0\n",
              "1992-09-01   5877     0  1413.0  4298.0  ...   4577.0   3564.0   4348.0  12670.0\n",
              "\n",
              "[96 rows x 11 columns]"
            ]
          },
          "metadata": {
            "tags": []
          },
          "execution_count": 29
        }
      ]
    },
    {
      "cell_type": "code",
      "metadata": {
        "id": "QO8Rs02gzZAD"
      },
      "source": [
        "X = df_flagged.drop(columns='flag')\n",
        "y = df_flagged.flag"
      ],
      "execution_count": null,
      "outputs": []
    },
    {
      "cell_type": "code",
      "metadata": {
        "colab": {
          "base_uri": "https://localhost:8080/",
          "height": 450
        },
        "id": "Cc7S6ktr2YbS",
        "outputId": "d9a8c3dc-7da6-489d-cdbf-bf91038940eb"
      },
      "source": [
        "X"
      ],
      "execution_count": null,
      "outputs": [
        {
          "output_type": "execute_result",
          "data": {
            "text/html": [
              "<div>\n",
              "<style scoped>\n",
              "    .dataframe tbody tr th:only-of-type {\n",
              "        vertical-align: middle;\n",
              "    }\n",
              "\n",
              "    .dataframe tbody tr th {\n",
              "        vertical-align: top;\n",
              "    }\n",
              "\n",
              "    .dataframe thead th {\n",
              "        text-align: right;\n",
              "    }\n",
              "</style>\n",
              "<table border=\"1\" class=\"dataframe\">\n",
              "  <thead>\n",
              "    <tr style=\"text-align: right;\">\n",
              "      <th></th>\n",
              "      <th>Sales</th>\n",
              "      <th>t-1</th>\n",
              "      <th>t-2</th>\n",
              "      <th>t-3</th>\n",
              "      <th>t-4</th>\n",
              "      <th>t-5</th>\n",
              "      <th>t-6</th>\n",
              "      <th>t-7</th>\n",
              "      <th>t-8</th>\n",
              "      <th>t-9</th>\n",
              "    </tr>\n",
              "    <tr>\n",
              "      <th>Month</th>\n",
              "      <th></th>\n",
              "      <th></th>\n",
              "      <th></th>\n",
              "      <th></th>\n",
              "      <th></th>\n",
              "      <th></th>\n",
              "      <th></th>\n",
              "      <th></th>\n",
              "      <th></th>\n",
              "      <th></th>\n",
              "    </tr>\n",
              "  </thead>\n",
              "  <tbody>\n",
              "    <tr>\n",
              "      <th>1984-10-01</th>\n",
              "      <td>4301</td>\n",
              "      <td>2922.0</td>\n",
              "      <td>2212.0</td>\n",
              "      <td>2282.0</td>\n",
              "      <td>3036.0</td>\n",
              "      <td>2946.0</td>\n",
              "      <td>2721.0</td>\n",
              "      <td>2755.0</td>\n",
              "      <td>2672.0</td>\n",
              "      <td>2815.0</td>\n",
              "    </tr>\n",
              "    <tr>\n",
              "      <th>1984-11-01</th>\n",
              "      <td>5764</td>\n",
              "      <td>4301.0</td>\n",
              "      <td>2922.0</td>\n",
              "      <td>2212.0</td>\n",
              "      <td>2282.0</td>\n",
              "      <td>3036.0</td>\n",
              "      <td>2946.0</td>\n",
              "      <td>2721.0</td>\n",
              "      <td>2755.0</td>\n",
              "      <td>2672.0</td>\n",
              "    </tr>\n",
              "    <tr>\n",
              "      <th>1984-12-01</th>\n",
              "      <td>7312</td>\n",
              "      <td>5764.0</td>\n",
              "      <td>4301.0</td>\n",
              "      <td>2922.0</td>\n",
              "      <td>2212.0</td>\n",
              "      <td>2282.0</td>\n",
              "      <td>3036.0</td>\n",
              "      <td>2946.0</td>\n",
              "      <td>2721.0</td>\n",
              "      <td>2755.0</td>\n",
              "    </tr>\n",
              "    <tr>\n",
              "      <th>1985-01-01</th>\n",
              "      <td>2541</td>\n",
              "      <td>7312.0</td>\n",
              "      <td>5764.0</td>\n",
              "      <td>4301.0</td>\n",
              "      <td>2922.0</td>\n",
              "      <td>2212.0</td>\n",
              "      <td>2282.0</td>\n",
              "      <td>3036.0</td>\n",
              "      <td>2946.0</td>\n",
              "      <td>2721.0</td>\n",
              "    </tr>\n",
              "    <tr>\n",
              "      <th>1985-02-01</th>\n",
              "      <td>2475</td>\n",
              "      <td>2541.0</td>\n",
              "      <td>7312.0</td>\n",
              "      <td>5764.0</td>\n",
              "      <td>4301.0</td>\n",
              "      <td>2922.0</td>\n",
              "      <td>2212.0</td>\n",
              "      <td>2282.0</td>\n",
              "      <td>3036.0</td>\n",
              "      <td>2946.0</td>\n",
              "    </tr>\n",
              "    <tr>\n",
              "      <th>...</th>\n",
              "      <td>...</td>\n",
              "      <td>...</td>\n",
              "      <td>...</td>\n",
              "      <td>...</td>\n",
              "      <td>...</td>\n",
              "      <td>...</td>\n",
              "      <td>...</td>\n",
              "      <td>...</td>\n",
              "      <td>...</td>\n",
              "      <td>...</td>\n",
              "    </tr>\n",
              "    <tr>\n",
              "      <th>1992-05-01</th>\n",
              "      <td>4618</td>\n",
              "      <td>4788.0</td>\n",
              "      <td>4577.0</td>\n",
              "      <td>3564.0</td>\n",
              "      <td>4348.0</td>\n",
              "      <td>12670.0</td>\n",
              "      <td>9851.0</td>\n",
              "      <td>6981.0</td>\n",
              "      <td>5951.0</td>\n",
              "      <td>1659.0</td>\n",
              "    </tr>\n",
              "    <tr>\n",
              "      <th>1992-06-01</th>\n",
              "      <td>5312</td>\n",
              "      <td>4618.0</td>\n",
              "      <td>4788.0</td>\n",
              "      <td>4577.0</td>\n",
              "      <td>3564.0</td>\n",
              "      <td>4348.0</td>\n",
              "      <td>12670.0</td>\n",
              "      <td>9851.0</td>\n",
              "      <td>6981.0</td>\n",
              "      <td>5951.0</td>\n",
              "    </tr>\n",
              "    <tr>\n",
              "      <th>1992-07-01</th>\n",
              "      <td>4298</td>\n",
              "      <td>5312.0</td>\n",
              "      <td>4618.0</td>\n",
              "      <td>4788.0</td>\n",
              "      <td>4577.0</td>\n",
              "      <td>3564.0</td>\n",
              "      <td>4348.0</td>\n",
              "      <td>12670.0</td>\n",
              "      <td>9851.0</td>\n",
              "      <td>6981.0</td>\n",
              "    </tr>\n",
              "    <tr>\n",
              "      <th>1992-08-01</th>\n",
              "      <td>1413</td>\n",
              "      <td>4298.0</td>\n",
              "      <td>5312.0</td>\n",
              "      <td>4618.0</td>\n",
              "      <td>4788.0</td>\n",
              "      <td>4577.0</td>\n",
              "      <td>3564.0</td>\n",
              "      <td>4348.0</td>\n",
              "      <td>12670.0</td>\n",
              "      <td>9851.0</td>\n",
              "    </tr>\n",
              "    <tr>\n",
              "      <th>1992-09-01</th>\n",
              "      <td>5877</td>\n",
              "      <td>1413.0</td>\n",
              "      <td>4298.0</td>\n",
              "      <td>5312.0</td>\n",
              "      <td>4618.0</td>\n",
              "      <td>4788.0</td>\n",
              "      <td>4577.0</td>\n",
              "      <td>3564.0</td>\n",
              "      <td>4348.0</td>\n",
              "      <td>12670.0</td>\n",
              "    </tr>\n",
              "  </tbody>\n",
              "</table>\n",
              "<p>96 rows × 10 columns</p>\n",
              "</div>"
            ],
            "text/plain": [
              "            Sales     t-1     t-2     t-3  ...      t-6      t-7      t-8      t-9\n",
              "Month                                      ...                                    \n",
              "1984-10-01   4301  2922.0  2212.0  2282.0  ...   2721.0   2755.0   2672.0   2815.0\n",
              "1984-11-01   5764  4301.0  2922.0  2212.0  ...   2946.0   2721.0   2755.0   2672.0\n",
              "1984-12-01   7312  5764.0  4301.0  2922.0  ...   3036.0   2946.0   2721.0   2755.0\n",
              "1985-01-01   2541  7312.0  5764.0  4301.0  ...   2282.0   3036.0   2946.0   2721.0\n",
              "1985-02-01   2475  2541.0  7312.0  5764.0  ...   2212.0   2282.0   3036.0   2946.0\n",
              "...           ...     ...     ...     ...  ...      ...      ...      ...      ...\n",
              "1992-05-01   4618  4788.0  4577.0  3564.0  ...   9851.0   6981.0   5951.0   1659.0\n",
              "1992-06-01   5312  4618.0  4788.0  4577.0  ...  12670.0   9851.0   6981.0   5951.0\n",
              "1992-07-01   4298  5312.0  4618.0  4788.0  ...   4348.0  12670.0   9851.0   6981.0\n",
              "1992-08-01   1413  4298.0  5312.0  4618.0  ...   3564.0   4348.0  12670.0   9851.0\n",
              "1992-09-01   5877  1413.0  4298.0  5312.0  ...   4577.0   3564.0   4348.0  12670.0\n",
              "\n",
              "[96 rows x 10 columns]"
            ]
          },
          "metadata": {
            "tags": []
          },
          "execution_count": 31
        }
      ]
    },
    {
      "cell_type": "code",
      "metadata": {
        "id": "VmSQdLza2xQm"
      },
      "source": [
        "X_train, X_test, y_train, y_test = train_test_split(X,y,test_size=0.10, random_state=0)"
      ],
      "execution_count": null,
      "outputs": []
    },
    {
      "cell_type": "code",
      "metadata": {
        "colab": {
          "base_uri": "https://localhost:8080/",
          "height": 419
        },
        "id": "majKtt7M49T9",
        "outputId": "3c51c37f-4b8b-4947-be4d-b2ffc5cbba8a"
      },
      "source": [
        "pca = PCA(n_components=2)\n",
        "principal_components = pca.fit_transform(X_train)\n",
        "principalDF = pd.DataFrame(data=principal_components, columns=['pc1','pc2'])\n",
        "y_train_indexless = y_train.reset_index(drop=True)\n",
        "principalDF = pd.concat([principalDF,y_train_indexless], axis=1)\n",
        "principalDF"
      ],
      "execution_count": null,
      "outputs": [
        {
          "output_type": "execute_result",
          "data": {
            "text/html": [
              "<div>\n",
              "<style scoped>\n",
              "    .dataframe tbody tr th:only-of-type {\n",
              "        vertical-align: middle;\n",
              "    }\n",
              "\n",
              "    .dataframe tbody tr th {\n",
              "        vertical-align: top;\n",
              "    }\n",
              "\n",
              "    .dataframe thead th {\n",
              "        text-align: right;\n",
              "    }\n",
              "</style>\n",
              "<table border=\"1\" class=\"dataframe\">\n",
              "  <thead>\n",
              "    <tr style=\"text-align: right;\">\n",
              "      <th></th>\n",
              "      <th>pc1</th>\n",
              "      <th>pc2</th>\n",
              "      <th>flag</th>\n",
              "    </tr>\n",
              "  </thead>\n",
              "  <tbody>\n",
              "    <tr>\n",
              "      <th>0</th>\n",
              "      <td>6233.504253</td>\n",
              "      <td>-1958.747221</td>\n",
              "      <td>0</td>\n",
              "    </tr>\n",
              "    <tr>\n",
              "      <th>1</th>\n",
              "      <td>7980.934373</td>\n",
              "      <td>-363.673389</td>\n",
              "      <td>0</td>\n",
              "    </tr>\n",
              "    <tr>\n",
              "      <th>2</th>\n",
              "      <td>81.171631</td>\n",
              "      <td>-4654.384890</td>\n",
              "      <td>0</td>\n",
              "    </tr>\n",
              "    <tr>\n",
              "      <th>3</th>\n",
              "      <td>-2101.388121</td>\n",
              "      <td>3038.209612</td>\n",
              "      <td>0</td>\n",
              "    </tr>\n",
              "    <tr>\n",
              "      <th>4</th>\n",
              "      <td>-3097.937247</td>\n",
              "      <td>544.096124</td>\n",
              "      <td>0</td>\n",
              "    </tr>\n",
              "    <tr>\n",
              "      <th>...</th>\n",
              "      <td>...</td>\n",
              "      <td>...</td>\n",
              "      <td>...</td>\n",
              "    </tr>\n",
              "    <tr>\n",
              "      <th>81</th>\n",
              "      <td>-6137.776651</td>\n",
              "      <td>-1228.518397</td>\n",
              "      <td>0</td>\n",
              "    </tr>\n",
              "    <tr>\n",
              "      <th>82</th>\n",
              "      <td>-6336.424136</td>\n",
              "      <td>-888.345882</td>\n",
              "      <td>0</td>\n",
              "    </tr>\n",
              "    <tr>\n",
              "      <th>83</th>\n",
              "      <td>9514.370077</td>\n",
              "      <td>-1205.713831</td>\n",
              "      <td>0</td>\n",
              "    </tr>\n",
              "    <tr>\n",
              "      <th>84</th>\n",
              "      <td>-35.907673</td>\n",
              "      <td>-4067.320905</td>\n",
              "      <td>0</td>\n",
              "    </tr>\n",
              "    <tr>\n",
              "      <th>85</th>\n",
              "      <td>-4631.901037</td>\n",
              "      <td>-437.905728</td>\n",
              "      <td>0</td>\n",
              "    </tr>\n",
              "  </tbody>\n",
              "</table>\n",
              "<p>86 rows × 3 columns</p>\n",
              "</div>"
            ],
            "text/plain": [
              "            pc1          pc2  flag\n",
              "0   6233.504253 -1958.747221     0\n",
              "1   7980.934373  -363.673389     0\n",
              "2     81.171631 -4654.384890     0\n",
              "3  -2101.388121  3038.209612     0\n",
              "4  -3097.937247   544.096124     0\n",
              "..          ...          ...   ...\n",
              "81 -6137.776651 -1228.518397     0\n",
              "82 -6336.424136  -888.345882     0\n",
              "83  9514.370077 -1205.713831     0\n",
              "84   -35.907673 -4067.320905     0\n",
              "85 -4631.901037  -437.905728     0\n",
              "\n",
              "[86 rows x 3 columns]"
            ]
          },
          "metadata": {
            "tags": []
          },
          "execution_count": 33
        }
      ]
    },
    {
      "cell_type": "code",
      "metadata": {
        "colab": {
          "base_uri": "https://localhost:8080/",
          "height": 483
        },
        "id": "oFmu-_fz5pFp",
        "outputId": "eee2d3f6-55ae-4344-ed40-a25a54cea58a"
      },
      "source": [
        "plt.figure(figsize=(12,8))\n",
        "plt.scatter(principalDF.pc1, principalDF.pc2, color='g')\n",
        "plt.scatter(principalDF[principalDF.flag == 1].pc1, principalDF[principalDF.flag == 1].pc2, color='r')\n",
        "plt.show()"
      ],
      "execution_count": null,
      "outputs": [
        {
          "output_type": "display_data",
          "data": {
            "image/png": "[encoded data removed]",
            "text/plain": [
              "<Figure size 864x576 with 1 Axes>"
            ]
          },
          "metadata": {
            "tags": [],
            "needs_background": "light"
          }
        }
      ]
    },
    {
      "cell_type": "code",
      "metadata": {
        "colab": {
          "base_uri": "https://localhost:8080/",
          "height": 483
        },
        "id": "SaA9B9rVEJHR",
        "outputId": "a01d1346-00c2-40db-d635-d56cc54e00d5"
      },
      "source": [
        "pca = PCA()\n",
        "pca_train = pca.fit_transform(X_train)\n",
        "pca_train = pd.DataFrame(pca_train)\n",
        "pca_test = pca.transform(X_test)\n",
        "pca_test = pd.DataFrame(pca_test)\n",
        "a = pca_train[range(0,len(pca_train.columns))]\n",
        "b = ['pc' + str(i) for i in np.arange(1,len(a)+1)]\n",
        "d = dict(zip(a, b))\n",
        "pca_train = pca_train.rename(columns=d)    \n",
        "pca_test = pca_test.rename(columns=d)\n",
        "plt.figure(figsize=(12,8))\n",
        "plt.plot(list(np.arange(1,pca_train.shape[1]+1)),pca.explained_variance_ratio_, \"D-\")\n",
        "plt.show()"
      ],
      "execution_count": null,
      "outputs": [
        {
          "output_type": "display_data",
          "data": {
            "image/png": "[encoded data removed]",
            "text/plain": [
              "<Figure size 864x576 with 1 Axes>"
            ]
          },
          "metadata": {
            "tags": [],
            "needs_background": "light"
          }
        }
      ]
    },
    {
      "cell_type": "code",
      "metadata": {
        "colab": {
          "base_uri": "https://localhost:8080/"
        },
        "id": "lXAjQ-P3Eapf",
        "outputId": "987723f7-3ca4-472c-f0b6-f7fd398dfda1"
      },
      "source": [
        "pca.explained_variance_ratio_"
      ],
      "execution_count": null,
      "outputs": [
        {
          "output_type": "execute_result",
          "data": {
            "text/plain": [
              "array([0.21623351, 0.21397962, 0.1894546 , 0.13724396, 0.07631355,\n",
              "       0.04669926, 0.04103717, 0.0369567 , 0.03135553, 0.0107261 ])"
            ]
          },
          "metadata": {
            "tags": []
          },
          "execution_count": 36
        }
      ]
    },
    {
      "cell_type": "code",
      "metadata": {
        "colab": {
          "base_uri": "https://localhost:8080/",
          "height": 439
        },
        "id": "46bqcT32IfeQ",
        "outputId": "6b3d8c95-922d-4532-ce8a-c8476a9a71c9"
      },
      "source": [
        "pca_train\n",
        "y_train_indexless = y_train.reset_index(drop=True)\n",
        "pca_train = pd.concat([pca_train,y_train_indexless], axis=1)\n",
        "pca_train"
      ],
      "execution_count": null,
      "outputs": [
        {
          "output_type": "execute_result",
          "data": {
            "text/html": [
              "<div>\n",
              "<style scoped>\n",
              "    .dataframe tbody tr th:only-of-type {\n",
              "        vertical-align: middle;\n",
              "    }\n",
              "\n",
              "    .dataframe tbody tr th {\n",
              "        vertical-align: top;\n",
              "    }\n",
              "\n",
              "    .dataframe thead th {\n",
              "        text-align: right;\n",
              "    }\n",
              "</style>\n",
              "<table border=\"1\" class=\"dataframe\">\n",
              "  <thead>\n",
              "    <tr style=\"text-align: right;\">\n",
              "      <th></th>\n",
              "      <th>pc1</th>\n",
              "      <th>pc2</th>\n",
              "      <th>pc3</th>\n",
              "      <th>pc4</th>\n",
              "      <th>pc5</th>\n",
              "      <th>pc6</th>\n",
              "      <th>pc7</th>\n",
              "      <th>pc8</th>\n",
              "      <th>pc9</th>\n",
              "      <th>pc10</th>\n",
              "      <th>flag</th>\n",
              "    </tr>\n",
              "  </thead>\n",
              "  <tbody>\n",
              "    <tr>\n",
              "      <th>0</th>\n",
              "      <td>6233.504253</td>\n",
              "      <td>-1958.747221</td>\n",
              "      <td>4785.777254</td>\n",
              "      <td>1527.485058</td>\n",
              "      <td>2486.071429</td>\n",
              "      <td>-1878.381002</td>\n",
              "      <td>2071.857261</td>\n",
              "      <td>936.857374</td>\n",
              "      <td>-561.028143</td>\n",
              "      <td>37.285937</td>\n",
              "      <td>0</td>\n",
              "    </tr>\n",
              "    <tr>\n",
              "      <th>1</th>\n",
              "      <td>7980.934373</td>\n",
              "      <td>-363.673389</td>\n",
              "      <td>-1672.937933</td>\n",
              "      <td>3770.709323</td>\n",
              "      <td>86.566059</td>\n",
              "      <td>3101.675369</td>\n",
              "      <td>-2876.109372</td>\n",
              "      <td>1163.377466</td>\n",
              "      <td>289.674097</td>\n",
              "      <td>-149.362225</td>\n",
              "      <td>0</td>\n",
              "    </tr>\n",
              "    <tr>\n",
              "      <th>2</th>\n",
              "      <td>81.171631</td>\n",
              "      <td>-4654.384890</td>\n",
              "      <td>-1944.736103</td>\n",
              "      <td>-6037.050349</td>\n",
              "      <td>4653.092518</td>\n",
              "      <td>673.552572</td>\n",
              "      <td>-3066.958867</td>\n",
              "      <td>-3141.825945</td>\n",
              "      <td>900.718002</td>\n",
              "      <td>1900.749628</td>\n",
              "      <td>0</td>\n",
              "    </tr>\n",
              "    <tr>\n",
              "      <th>3</th>\n",
              "      <td>-2101.388121</td>\n",
              "      <td>3038.209612</td>\n",
              "      <td>916.921281</td>\n",
              "      <td>-3881.413397</td>\n",
              "      <td>-1651.509435</td>\n",
              "      <td>292.737322</td>\n",
              "      <td>-325.975873</td>\n",
              "      <td>387.854394</td>\n",
              "      <td>-354.047342</td>\n",
              "      <td>-1074.522618</td>\n",
              "      <td>0</td>\n",
              "    </tr>\n",
              "    <tr>\n",
              "      <th>4</th>\n",
              "      <td>-3097.937247</td>\n",
              "      <td>544.096124</td>\n",
              "      <td>3960.069341</td>\n",
              "      <td>-1004.702097</td>\n",
              "      <td>-2474.515270</td>\n",
              "      <td>1793.953590</td>\n",
              "      <td>-443.560262</td>\n",
              "      <td>-765.671258</td>\n",
              "      <td>-859.376453</td>\n",
              "      <td>1020.578291</td>\n",
              "      <td>0</td>\n",
              "    </tr>\n",
              "    <tr>\n",
              "      <th>...</th>\n",
              "      <td>...</td>\n",
              "      <td>...</td>\n",
              "      <td>...</td>\n",
              "      <td>...</td>\n",
              "      <td>...</td>\n",
              "      <td>...</td>\n",
              "      <td>...</td>\n",
              "      <td>...</td>\n",
              "      <td>...</td>\n",
              "      <td>...</td>\n",
              "      <td>...</td>\n",
              "    </tr>\n",
              "    <tr>\n",
              "      <th>81</th>\n",
              "      <td>-6137.776651</td>\n",
              "      <td>-1228.518397</td>\n",
              "      <td>-473.590277</td>\n",
              "      <td>5681.719718</td>\n",
              "      <td>2336.791133</td>\n",
              "      <td>-2603.520051</td>\n",
              "      <td>-1869.921130</td>\n",
              "      <td>-2206.226388</td>\n",
              "      <td>-1742.819771</td>\n",
              "      <td>-1499.428778</td>\n",
              "      <td>0</td>\n",
              "    </tr>\n",
              "    <tr>\n",
              "      <th>82</th>\n",
              "      <td>-6336.424136</td>\n",
              "      <td>-888.345882</td>\n",
              "      <td>7042.893817</td>\n",
              "      <td>5795.151092</td>\n",
              "      <td>-648.373197</td>\n",
              "      <td>4382.746672</td>\n",
              "      <td>850.623086</td>\n",
              "      <td>-1743.114558</td>\n",
              "      <td>-944.329310</td>\n",
              "      <td>2183.063560</td>\n",
              "      <td>0</td>\n",
              "    </tr>\n",
              "    <tr>\n",
              "      <th>83</th>\n",
              "      <td>9514.370077</td>\n",
              "      <td>-1205.713831</td>\n",
              "      <td>-1501.557504</td>\n",
              "      <td>3473.984022</td>\n",
              "      <td>-218.573987</td>\n",
              "      <td>3491.404071</td>\n",
              "      <td>-3932.957622</td>\n",
              "      <td>642.642156</td>\n",
              "      <td>-1062.188951</td>\n",
              "      <td>-1162.014477</td>\n",
              "      <td>0</td>\n",
              "    </tr>\n",
              "    <tr>\n",
              "      <th>84</th>\n",
              "      <td>-35.907673</td>\n",
              "      <td>-4067.320905</td>\n",
              "      <td>-450.801919</td>\n",
              "      <td>-3448.973353</td>\n",
              "      <td>3170.764862</td>\n",
              "      <td>-278.985555</td>\n",
              "      <td>-2410.687361</td>\n",
              "      <td>-1214.443581</td>\n",
              "      <td>748.422214</td>\n",
              "      <td>706.083484</td>\n",
              "      <td>0</td>\n",
              "    </tr>\n",
              "    <tr>\n",
              "      <th>85</th>\n",
              "      <td>-4631.901037</td>\n",
              "      <td>-437.905728</td>\n",
              "      <td>444.264934</td>\n",
              "      <td>3508.968401</td>\n",
              "      <td>608.945559</td>\n",
              "      <td>-2914.995001</td>\n",
              "      <td>-1522.422248</td>\n",
              "      <td>-1854.556410</td>\n",
              "      <td>-1028.509568</td>\n",
              "      <td>-1431.146383</td>\n",
              "      <td>0</td>\n",
              "    </tr>\n",
              "  </tbody>\n",
              "</table>\n",
              "<p>86 rows × 11 columns</p>\n",
              "</div>"
            ],
            "text/plain": [
              "            pc1          pc2          pc3  ...          pc9         pc10  flag\n",
              "0   6233.504253 -1958.747221  4785.777254  ...  -561.028143    37.285937     0\n",
              "1   7980.934373  -363.673389 -1672.937933  ...   289.674097  -149.362225     0\n",
              "2     81.171631 -4654.384890 -1944.736103  ...   900.718002  1900.749628     0\n",
              "3  -2101.388121  3038.209612   916.921281  ...  -354.047342 -1074.522618     0\n",
              "4  -3097.937247   544.096124  3960.069341  ...  -859.376453  1020.578291     0\n",
              "..          ...          ...          ...  ...          ...          ...   ...\n",
              "81 -6137.776651 -1228.518397  -473.590277  ... -1742.819771 -1499.428778     0\n",
              "82 -6336.424136  -888.345882  7042.893817  ...  -944.329310  2183.063560     0\n",
              "83  9514.370077 -1205.713831 -1501.557504  ... -1062.188951 -1162.014477     0\n",
              "84   -35.907673 -4067.320905  -450.801919  ...   748.422214   706.083484     0\n",
              "85 -4631.901037  -437.905728   444.264934  ... -1028.509568 -1431.146383     0\n",
              "\n",
              "[86 rows x 11 columns]"
            ]
          },
          "metadata": {
            "tags": []
          },
          "execution_count": 37
        }
      ]
    },
    {
      "cell_type": "code",
      "metadata": {
        "colab": {
          "base_uri": "https://localhost:8080/",
          "height": 358
        },
        "id": "_WgjAxsRIam_",
        "outputId": "c1fb4655-4f45-4474-a8c5-41bea5f76117"
      },
      "source": [
        "fig = plt.figure(figsize=(16,12))\n",
        "ax = fig.add_subplot(2,2,1)\n",
        "ax.scatter(pca_train[\"pc1\"], pca_train[\"pc2\"],c=pca_train.flag)\n",
        "ax.set_xlabel(\"pc1:\"+\"{:.2f}\".format(pca.explained_variance_ratio_[0]*100)+\" %\")\n",
        "ax.set_ylabel(\"pc2:\"+\"{:.2f}\".format(pca.explained_variance_ratio_[1]*100)+\" %\")\n",
        "\n",
        "ax = fig.add_subplot(2,2,2, projection='3d')\n",
        "ax.scatter(pca_train[\"pc1\"], pca_train[\"pc2\"], pca_train[\"pc3\"],c=pca_train.flag)\n",
        "ax.set_xlabel(\"pc1:\"+\"{:.2f}\".format(pca.explained_variance_ratio_[0]*100)+\" %\")\n",
        "ax.set_ylabel(\"pc2:\"+\"{:.2f}\".format(pca.explained_variance_ratio_[1]*100)+\" %\")\n",
        "ax.set_zlabel(\"pc3:\"+\"{:.2f}\".format(pca.explained_variance_ratio_[2]*100)+\" %\")\n",
        "    \n",
        "plt.show()   "
      ],
      "execution_count": null,
      "outputs": [
        {
          "output_type": "display_data",
          "data": {
            "image/png": "[encoded data removed]",
            "text/plain": [
              "<Figure size 1152x864 with 2 Axes>"
            ]
          },
          "metadata": {
            "tags": [],
            "needs_background": "light"
          }
        }
      ]
    },
    {
      "cell_type": "code",
      "metadata": {
        "colab": {
          "base_uri": "https://localhost:8080/",
          "height": 419
        },
        "id": "-FAYfJO3Ns71",
        "outputId": "fcabece8-9386-49d1-c777-c974824d872b"
      },
      "source": [
        "X_train = principalDF.drop(columns='flag')\n",
        "X_train"
      ],
      "execution_count": null,
      "outputs": [
        {
          "output_type": "execute_result",
          "data": {
            "text/html": [
              "<div>\n",
              "<style scoped>\n",
              "    .dataframe tbody tr th:only-of-type {\n",
              "        vertical-align: middle;\n",
              "    }\n",
              "\n",
              "    .dataframe tbody tr th {\n",
              "        vertical-align: top;\n",
              "    }\n",
              "\n",
              "    .dataframe thead th {\n",
              "        text-align: right;\n",
              "    }\n",
              "</style>\n",
              "<table border=\"1\" class=\"dataframe\">\n",
              "  <thead>\n",
              "    <tr style=\"text-align: right;\">\n",
              "      <th></th>\n",
              "      <th>pc1</th>\n",
              "      <th>pc2</th>\n",
              "    </tr>\n",
              "  </thead>\n",
              "  <tbody>\n",
              "    <tr>\n",
              "      <th>0</th>\n",
              "      <td>6233.504253</td>\n",
              "      <td>-1958.747221</td>\n",
              "    </tr>\n",
              "    <tr>\n",
              "      <th>1</th>\n",
              "      <td>7980.934373</td>\n",
              "      <td>-363.673389</td>\n",
              "    </tr>\n",
              "    <tr>\n",
              "      <th>2</th>\n",
              "      <td>81.171631</td>\n",
              "      <td>-4654.384890</td>\n",
              "    </tr>\n",
              "    <tr>\n",
              "      <th>3</th>\n",
              "      <td>-2101.388121</td>\n",
              "      <td>3038.209612</td>\n",
              "    </tr>\n",
              "    <tr>\n",
              "      <th>4</th>\n",
              "      <td>-3097.937247</td>\n",
              "      <td>544.096124</td>\n",
              "    </tr>\n",
              "    <tr>\n",
              "      <th>...</th>\n",
              "      <td>...</td>\n",
              "      <td>...</td>\n",
              "    </tr>\n",
              "    <tr>\n",
              "      <th>81</th>\n",
              "      <td>-6137.776651</td>\n",
              "      <td>-1228.518397</td>\n",
              "    </tr>\n",
              "    <tr>\n",
              "      <th>82</th>\n",
              "      <td>-6336.424136</td>\n",
              "      <td>-888.345882</td>\n",
              "    </tr>\n",
              "    <tr>\n",
              "      <th>83</th>\n",
              "      <td>9514.370077</td>\n",
              "      <td>-1205.713831</td>\n",
              "    </tr>\n",
              "    <tr>\n",
              "      <th>84</th>\n",
              "      <td>-35.907673</td>\n",
              "      <td>-4067.320905</td>\n",
              "    </tr>\n",
              "    <tr>\n",
              "      <th>85</th>\n",
              "      <td>-4631.901037</td>\n",
              "      <td>-437.905728</td>\n",
              "    </tr>\n",
              "  </tbody>\n",
              "</table>\n",
              "<p>86 rows × 2 columns</p>\n",
              "</div>"
            ],
            "text/plain": [
              "            pc1          pc2\n",
              "0   6233.504253 -1958.747221\n",
              "1   7980.934373  -363.673389\n",
              "2     81.171631 -4654.384890\n",
              "3  -2101.388121  3038.209612\n",
              "4  -3097.937247   544.096124\n",
              "..          ...          ...\n",
              "81 -6137.776651 -1228.518397\n",
              "82 -6336.424136  -888.345882\n",
              "83  9514.370077 -1205.713831\n",
              "84   -35.907673 -4067.320905\n",
              "85 -4631.901037  -437.905728\n",
              "\n",
              "[86 rows x 2 columns]"
            ]
          },
          "metadata": {
            "tags": []
          },
          "execution_count": 39
        }
      ]
    },
    {
      "cell_type": "code",
      "metadata": {
        "colab": {
          "base_uri": "https://localhost:8080/",
          "height": 359
        },
        "id": "ksXQVDg_N5cm",
        "outputId": "15d536e1-3857-479f-ed0a-b44ad7a60aba"
      },
      "source": [
        "X_test = pca_test[['pc1','pc2']]\n",
        "X_test"
      ],
      "execution_count": null,
      "outputs": [
        {
          "output_type": "execute_result",
          "data": {
            "text/html": [
              "<div>\n",
              "<style scoped>\n",
              "    .dataframe tbody tr th:only-of-type {\n",
              "        vertical-align: middle;\n",
              "    }\n",
              "\n",
              "    .dataframe tbody tr th {\n",
              "        vertical-align: top;\n",
              "    }\n",
              "\n",
              "    .dataframe thead th {\n",
              "        text-align: right;\n",
              "    }\n",
              "</style>\n",
              "<table border=\"1\" class=\"dataframe\">\n",
              "  <thead>\n",
              "    <tr style=\"text-align: right;\">\n",
              "      <th></th>\n",
              "      <th>pc1</th>\n",
              "      <th>pc2</th>\n",
              "    </tr>\n",
              "  </thead>\n",
              "  <tbody>\n",
              "    <tr>\n",
              "      <th>0</th>\n",
              "      <td>-1592.893744</td>\n",
              "      <td>5383.538201</td>\n",
              "    </tr>\n",
              "    <tr>\n",
              "      <th>1</th>\n",
              "      <td>-1368.074628</td>\n",
              "      <td>1981.852249</td>\n",
              "    </tr>\n",
              "    <tr>\n",
              "      <th>2</th>\n",
              "      <td>-911.019330</td>\n",
              "      <td>4209.710734</td>\n",
              "    </tr>\n",
              "    <tr>\n",
              "      <th>3</th>\n",
              "      <td>-4502.493130</td>\n",
              "      <td>647.925665</td>\n",
              "    </tr>\n",
              "    <tr>\n",
              "      <th>4</th>\n",
              "      <td>-8063.130934</td>\n",
              "      <td>-2320.515450</td>\n",
              "    </tr>\n",
              "    <tr>\n",
              "      <th>5</th>\n",
              "      <td>-4150.206446</td>\n",
              "      <td>-3022.444518</td>\n",
              "    </tr>\n",
              "    <tr>\n",
              "      <th>6</th>\n",
              "      <td>4671.063536</td>\n",
              "      <td>-55.945715</td>\n",
              "    </tr>\n",
              "    <tr>\n",
              "      <th>7</th>\n",
              "      <td>956.213965</td>\n",
              "      <td>-1029.885229</td>\n",
              "    </tr>\n",
              "    <tr>\n",
              "      <th>8</th>\n",
              "      <td>656.952558</td>\n",
              "      <td>-523.235687</td>\n",
              "    </tr>\n",
              "    <tr>\n",
              "      <th>9</th>\n",
              "      <td>236.525087</td>\n",
              "      <td>-1831.353213</td>\n",
              "    </tr>\n",
              "  </tbody>\n",
              "</table>\n",
              "</div>"
            ],
            "text/plain": [
              "           pc1          pc2\n",
              "0 -1592.893744  5383.538201\n",
              "1 -1368.074628  1981.852249\n",
              "2  -911.019330  4209.710734\n",
              "3 -4502.493130   647.925665\n",
              "4 -8063.130934 -2320.515450\n",
              "5 -4150.206446 -3022.444518\n",
              "6  4671.063536   -55.945715\n",
              "7   956.213965 -1029.885229\n",
              "8   656.952558  -523.235687\n",
              "9   236.525087 -1831.353213"
            ]
          },
          "metadata": {
            "tags": []
          },
          "execution_count": 40
        }
      ]
    },
    {
      "cell_type": "code",
      "metadata": {
        "id": "31NllmysOLsp"
      },
      "source": [
        "y_train.reset_index(drop=True,inplace=True)\n",
        "y_test.reset_index(drop=True,inplace=True)"
      ],
      "execution_count": null,
      "outputs": []
    },
    {
      "cell_type": "code",
      "metadata": {
        "colab": {
          "base_uri": "https://localhost:8080/"
        },
        "id": "K8EzgGAWxfHr",
        "outputId": "a79b337d-2dbf-4f01-b89e-566a1e99b99c"
      },
      "source": [
        "svc = SVC()\n",
        "svc.fit(X_train,y_train)\n",
        "#train_pred = svc.predict(X_train)\n",
        "svc.score(X_train,y_train)"
      ],
      "execution_count": null,
      "outputs": [
        {
          "output_type": "execute_result",
          "data": {
            "text/plain": [
              "0.9767441860465116"
            ]
          },
          "metadata": {
            "tags": []
          },
          "execution_count": 42
        }
      ]
    },
    {
      "cell_type": "code",
      "metadata": {
        "colab": {
          "base_uri": "https://localhost:8080/"
        },
        "id": "9bF97zI2O7Xb",
        "outputId": "5764c685-ade3-4732-9248-0df23a05a280"
      },
      "source": [
        "print(svc.predict(X_train))"
      ],
      "execution_count": null,
      "outputs": [
        {
          "output_type": "stream",
          "text": [
            "[0 0 0 0 0 0 0 0 0 0 0 1 0 1 0 0 0 0 0 0 0 0 0 0 0 0 0 0 0 0 0 0 0 0 0 0 0\n",
            " 0 0 0 0 0 0 0 0 1 0 0 0 0 0 0 0 0 0 0 0 0 1 0 0 0 0 0 0 0 0 0 0 0 0 0 0 0\n",
            " 0 0 0 0 0 0 0 0 0 0 0 0]\n"
          ],
          "name": "stdout"
        }
      ]
    },
    {
      "cell_type": "code",
      "metadata": {
        "colab": {
          "base_uri": "https://localhost:8080/"
        },
        "id": "NuTshpf8Q7Ec",
        "outputId": "d5b1b599-4032-4a81-ab70-5d16188d36f2"
      },
      "source": [
        "print(y_train.values)\n",
        "len(y_train)"
      ],
      "execution_count": null,
      "outputs": [
        {
          "output_type": "stream",
          "text": [
            "[0 0 0 0 0 0 0 0 0 0 0 1 0 1 0 0 0 0 0 0 0 0 0 0 0 0 0 0 0 0 0 0 0 0 0 0 0\n",
            " 0 1 0 0 0 0 0 0 1 0 0 0 0 0 0 0 0 0 0 0 1 1 0 0 0 0 0 0 0 0 0 0 0 0 0 0 0\n",
            " 0 0 0 0 0 0 0 0 0 0 0 0]\n"
          ],
          "name": "stdout"
        },
        {
          "output_type": "execute_result",
          "data": {
            "text/plain": [
              "86"
            ]
          },
          "metadata": {
            "tags": []
          },
          "execution_count": 44
        }
      ]
    },
    {
      "cell_type": "code",
      "metadata": {
        "colab": {
          "base_uri": "https://localhost:8080/"
        },
        "id": "B4mpHhnARdkL",
        "outputId": "1eb13b6f-240b-4b4c-c229-32c1f2e3e1bd"
      },
      "source": [
        "print(confusion_matrix(y_train, svc.predict(X_train)))"
      ],
      "execution_count": null,
      "outputs": [
        {
          "output_type": "stream",
          "text": [
            "[[80  0]\n",
            " [ 2  4]]\n"
          ],
          "name": "stdout"
        }
      ]
    },
    {
      "cell_type": "code",
      "metadata": {
        "colab": {
          "base_uri": "https://localhost:8080/"
        },
        "id": "lWfIMaSgRm9N",
        "outputId": "71070c35-da08-4b6d-fe14-8650eaedb27b"
      },
      "source": [
        "confusion_matrix(y_test, svc.predict(X_test))"
      ],
      "execution_count": null,
      "outputs": [
        {
          "output_type": "execute_result",
          "data": {
            "text/plain": [
              "array([[8, 0],\n",
              "       [2, 0]])"
            ]
          },
          "metadata": {
            "tags": []
          },
          "execution_count": 46
        }
      ]
    },
    {
      "cell_type": "code",
      "metadata": {
        "colab": {
          "base_uri": "https://localhost:8080/"
        },
        "id": "P5MUGnHouEWq",
        "outputId": "dc989c6b-d769-4812-a7cc-36ddd42fae09"
      },
      "source": [
        "svc = SVC(kernel='rbf')\n",
        "svc.fit(X_train,y_train)\n",
        "train_pred = svc.predict(X_train)\n",
        "print(f'Number of peak(s) detected for train: {sum(train_pred)}')\n",
        "print(f'Mean accuracy for train:              {svc.score(X_train,y_train)}')\n",
        "print(f'Confusion matrix for train: \\n{confusion_matrix(y_train, svc.predict(X_train))}')\n",
        "test_pred = svc.predict(X_test)\n",
        "print(f'Number of peak(s) detected for test: {sum(test_pred)} ')\n",
        "print(f'Mean accuracy for test:              {svc.score(X_test,y_test)}')\n",
        "print(f'Confusion matrix for test: \\n{confusion_matrix(y_test, svc.predict(X_test))}')"
      ],
      "execution_count": null,
      "outputs": [
        {
          "output_type": "stream",
          "text": [
            "Number of peak(s) detected for train: 4\n",
            "Mean accuracy for train:              0.9767441860465116\n",
            "Confusion matrix for train: \n",
            "[[80  0]\n",
            " [ 2  4]]\n",
            "Number of peak(s) detected for test: 0 \n",
            "Mean accuracy for test:              0.8\n",
            "Confusion matrix for test: \n",
            "[[8 0]\n",
            " [2 0]]\n"
          ],
          "name": "stdout"
        }
      ]
    },
    {
      "cell_type": "code",
      "metadata": {
        "colab": {
          "base_uri": "https://localhost:8080/"
        },
        "id": "Sr0CTL7rSpxA",
        "outputId": "7c0fdc71-a6c7-48b3-b1ae-8d5fa971cb07"
      },
      "source": [
        "svc = SVC(kernel='linear')\n",
        "svc.fit(X_train,y_train)\n",
        "train_pred = svc.predict(X_train)\n",
        "print(f'Number of peak(s) detected for train: {sum(train_pred)}')\n",
        "print(f'Mean accuracy for train:              {svc.score(X_train,y_train)}')\n",
        "print(f'Confusion matrix for train: \\n{confusion_matrix(y_train, svc.predict(X_train))}')\n",
        "test_pred = svc.predict(X_test)\n",
        "print(f'Number of peak(s) detected for test: {sum(test_pred)} ')\n",
        "print(f'Mean accuracy for test:              {svc.score(X_test,y_test)}')\n",
        "print(f'Confusion matrix for test: \\n{confusion_matrix(y_test, svc.predict(X_test))}')"
      ],
      "execution_count": null,
      "outputs": [
        {
          "output_type": "stream",
          "text": [
            "Number of peak(s) detected for train: 6\n",
            "Mean accuracy for train:              0.9767441860465116\n",
            "Confusion matrix for train: \n",
            "[[79  1]\n",
            " [ 1  5]]\n",
            "Number of peak(s) detected for test: 0 \n",
            "Mean accuracy for test:              0.8\n",
            "Confusion matrix for test: \n",
            "[[8 0]\n",
            " [2 0]]\n"
          ],
          "name": "stdout"
        }
      ]
    },
    {
      "cell_type": "code",
      "metadata": {
        "colab": {
          "base_uri": "https://localhost:8080/"
        },
        "id": "5FCORb-AttF2",
        "outputId": "c448f824-6453-4de3-c82c-428f7c555dd1"
      },
      "source": [
        "svc = SVC(kernel='poly')\n",
        "svc.fit(X_train,y_train)\n",
        "train_pred = svc.predict(X_train)\n",
        "print(f'Number of peak(s) detected for train: {sum(train_pred)}')\n",
        "print(f'Mean accuracy for train:              {svc.score(X_train,y_train)}')\n",
        "print(f'Confusion matrix for train: \\n{confusion_matrix(y_train, svc.predict(X_train))}')\n",
        "test_pred = svc.predict(X_test)\n",
        "print(f'Number of peak(s) detected for test: {sum(test_pred)} ')\n",
        "print(f'Mean accuracy for test:              {svc.score(X_test,y_test)}')\n",
        "print(f'Confusion matrix for test: \\n{confusion_matrix(y_test, svc.predict(X_test))}')"
      ],
      "execution_count": null,
      "outputs": [
        {
          "output_type": "stream",
          "text": [
            "Number of peak(s) detected for train: 4\n",
            "Mean accuracy for train:              0.9767441860465116\n",
            "Confusion matrix for train: \n",
            "[[80  0]\n",
            " [ 2  4]]\n",
            "Number of peak(s) detected for test: 0 \n",
            "Mean accuracy for test:              0.8\n",
            "Confusion matrix for test: \n",
            "[[8 0]\n",
            " [2 0]]\n"
          ],
          "name": "stdout"
        }
      ]
    },
    {
      "cell_type": "code",
      "metadata": {
        "colab": {
          "base_uri": "https://localhost:8080/"
        },
        "id": "_ER__Bxqt1Ur",
        "outputId": "b8885028-ef9a-4f44-d124-5e523902b636"
      },
      "source": [
        "svc = SVC(kernel='sigmoid')\n",
        "svc.fit(X_train,y_train)\n",
        "train_pred = svc.predict(X_train)\n",
        "print(f'Number of peak(s) detected for train: {sum(train_pred)}')\n",
        "print(f'Mean accuracy for train:              {svc.score(X_train,y_train)}')\n",
        "print(f'Confusion matrix for train: \\n{confusion_matrix(y_train, svc.predict(X_train))}')\n",
        "test_pred = svc.predict(X_test)\n",
        "print(f'Number of peak(s) detected for test: {sum(test_pred)} ')\n",
        "print(f'Mean accuracy for test:              {svc.score(X_test,y_test)}')\n",
        "print(f'Confusion matrix for test: \\n{confusion_matrix(y_test, svc.predict(X_test))}')"
      ],
      "execution_count": null,
      "outputs": [
        {
          "output_type": "stream",
          "text": [
            "Number of peak(s) detected for train: 0\n",
            "Mean accuracy for train:              0.9302325581395349\n",
            "Confusion matrix for train: \n",
            "[[80  0]\n",
            " [ 6  0]]\n",
            "Number of peak(s) detected for test: 0 \n",
            "Mean accuracy for test:              0.8\n",
            "Confusion matrix for test: \n",
            "[[8 0]\n",
            " [2 0]]\n"
          ],
          "name": "stdout"
        }
      ]
    },
    {
      "cell_type": "code",
      "metadata": {
        "colab": {
          "base_uri": "https://localhost:8080/"
        },
        "id": "TWDMX92auQex",
        "outputId": "75e8c7bc-fd7d-4e83-a006-365b0d759ba2"
      },
      "source": [
        "for dgr in range(1,10):\n",
        "  print(f'Polynomial degree: {dgr}')\n",
        "  print('='*30)\n",
        "  svc = SVC(kernel='poly', degree=dgr)\n",
        "  svc.fit(X_train,y_train)\n",
        "  train_pred = svc.predict(X_train)\n",
        "  print(f'Number of peak(s) detected for train: {sum(train_pred)}')\n",
        "  print(f'Mean accuracy for train:              {svc.score(X_train,y_train)}')\n",
        "  print(f'Confusion matrix for train: \\n{confusion_matrix(y_train, svc.predict(X_train))}')\n",
        "  test_pred = svc.predict(X_test)\n",
        "  print(f'Number of peak(s) detected for test: {sum(test_pred)} ')\n",
        "  print(f'Mean accuracy for test:              {svc.score(X_test,y_test)}')\n",
        "  print(f'Confusion matrix for test: \\n{confusion_matrix(y_test, svc.predict(X_test))}')"
      ],
      "execution_count": null,
      "outputs": [
        {
          "output_type": "stream",
          "text": [
            "Polynomial degree: 1\n",
            "==============================\n",
            "Number of peak(s) detected for train: 4\n",
            "Mean accuracy for train:              0.9767441860465116\n",
            "Confusion matrix for train: \n",
            "[[80  0]\n",
            " [ 2  4]]\n",
            "Number of peak(s) detected for test: 0 \n",
            "Mean accuracy for test:              0.8\n",
            "Confusion matrix for test: \n",
            "[[8 0]\n",
            " [2 0]]\n",
            "Polynomial degree: 2\n",
            "==============================\n",
            "Number of peak(s) detected for train: 3\n",
            "Mean accuracy for train:              0.9651162790697675\n",
            "Confusion matrix for train: \n",
            "[[80  0]\n",
            " [ 3  3]]\n",
            "Number of peak(s) detected for test: 0 \n",
            "Mean accuracy for test:              0.8\n",
            "Confusion matrix for test: \n",
            "[[8 0]\n",
            " [2 0]]\n",
            "Polynomial degree: 3\n",
            "==============================\n",
            "Number of peak(s) detected for train: 4\n",
            "Mean accuracy for train:              0.9767441860465116\n",
            "Confusion matrix for train: \n",
            "[[80  0]\n",
            " [ 2  4]]\n",
            "Number of peak(s) detected for test: 0 \n",
            "Mean accuracy for test:              0.8\n",
            "Confusion matrix for test: \n",
            "[[8 0]\n",
            " [2 0]]\n",
            "Polynomial degree: 4\n",
            "==============================\n",
            "Number of peak(s) detected for train: 4\n",
            "Mean accuracy for train:              0.9767441860465116\n",
            "Confusion matrix for train: \n",
            "[[80  0]\n",
            " [ 2  4]]\n",
            "Number of peak(s) detected for test: 0 \n",
            "Mean accuracy for test:              0.8\n",
            "Confusion matrix for test: \n",
            "[[8 0]\n",
            " [2 0]]\n",
            "Polynomial degree: 5\n",
            "==============================\n",
            "Number of peak(s) detected for train: 4\n",
            "Mean accuracy for train:              0.9767441860465116\n",
            "Confusion matrix for train: \n",
            "[[80  0]\n",
            " [ 2  4]]\n",
            "Number of peak(s) detected for test: 0 \n",
            "Mean accuracy for test:              0.8\n",
            "Confusion matrix for test: \n",
            "[[8 0]\n",
            " [2 0]]\n",
            "Polynomial degree: 6\n",
            "==============================\n",
            "Number of peak(s) detected for train: 4\n",
            "Mean accuracy for train:              0.9767441860465116\n",
            "Confusion matrix for train: \n",
            "[[80  0]\n",
            " [ 2  4]]\n",
            "Number of peak(s) detected for test: 0 \n",
            "Mean accuracy for test:              0.8\n",
            "Confusion matrix for test: \n",
            "[[8 0]\n",
            " [2 0]]\n",
            "Polynomial degree: 7\n",
            "==============================\n",
            "Number of peak(s) detected for train: 5\n",
            "Mean accuracy for train:              0.9883720930232558\n",
            "Confusion matrix for train: \n",
            "[[80  0]\n",
            " [ 1  5]]\n",
            "Number of peak(s) detected for test: 0 \n",
            "Mean accuracy for test:              0.8\n",
            "Confusion matrix for test: \n",
            "[[8 0]\n",
            " [2 0]]\n",
            "Polynomial degree: 8\n",
            "==============================\n",
            "Number of peak(s) detected for train: 5\n",
            "Mean accuracy for train:              0.9883720930232558\n",
            "Confusion matrix for train: \n",
            "[[80  0]\n",
            " [ 1  5]]\n",
            "Number of peak(s) detected for test: 0 \n",
            "Mean accuracy for test:              0.8\n",
            "Confusion matrix for test: \n",
            "[[8 0]\n",
            " [2 0]]\n",
            "Polynomial degree: 9\n",
            "==============================\n",
            "Number of peak(s) detected for train: 5\n",
            "Mean accuracy for train:              0.9883720930232558\n",
            "Confusion matrix for train: \n",
            "[[80  0]\n",
            " [ 1  5]]\n",
            "Number of peak(s) detected for test: 0 \n",
            "Mean accuracy for test:              0.8\n",
            "Confusion matrix for test: \n",
            "[[8 0]\n",
            " [2 0]]\n"
          ],
          "name": "stdout"
        }
      ]
    },
    {
      "cell_type": "code",
      "metadata": {
        "colab": {
          "base_uri": "https://localhost:8080/"
        },
        "id": "wfhdwRtMvKIK",
        "outputId": "63cafad4-9a43-482a-f427-1f685500a66a"
      },
      "source": [
        "svc = SVC(kernel='poly',degree=7,gamma='auto')\n",
        "svc.fit(X_train,y_train)\n",
        "train_pred = svc.predict(X_train)\n",
        "print(f'Number of peak(s) detected for train: {sum(train_pred)}')\n",
        "print(f'Mean accuracy for train:              {svc.score(X_train,y_train)}')\n",
        "print(f'Confusion matrix for train: \\n{confusion_matrix(y_train, svc.predict(X_train))}')\n",
        "test_pred = svc.predict(X_test)\n",
        "print(f'Number of peak(s) detected for test: {sum(test_pred)} ')\n",
        "print(f'Mean accuracy for test:              {svc.score(X_test,y_test)}')\n",
        "print(f'Confusion matrix for test: \\n{confusion_matrix(y_test, svc.predict(X_test))}')"
      ],
      "execution_count": null,
      "outputs": [
        {
          "output_type": "stream",
          "text": [
            "Number of peak(s) detected for train: 86\n",
            "Mean accuracy for train:              0.06976744186046512\n",
            "Confusion matrix for train: \n",
            "[[ 0 80]\n",
            " [ 0  6]]\n",
            "Number of peak(s) detected for test: 10 \n",
            "Mean accuracy for test:              0.2\n",
            "Confusion matrix for test: \n",
            "[[0 8]\n",
            " [0 2]]\n"
          ],
          "name": "stdout"
        }
      ]
    },
    {
      "cell_type": "code",
      "metadata": {
        "colab": {
          "base_uri": "https://localhost:8080/"
        },
        "id": "n47OVtUH2so_",
        "outputId": "5df84763-7b7e-4aab-bd94-7733ac093142"
      },
      "source": [
        "svc = SVC(kernel='poly',degree=7,gamma='scale')\n",
        "svc.fit(X_train,y_train)\n",
        "train_pred = svc.predict(X_train)\n",
        "print(f'Number of peak(s) detected for train: {sum(train_pred)}')\n",
        "print(f'Mean accuracy for train:              {svc.score(X_train,y_train)}')\n",
        "print(f'Confusion matrix for train: \\n{confusion_matrix(y_train, svc.predict(X_train))}')\n",
        "test_pred = svc.predict(X_test)\n",
        "print(f'Number of peak(s) detected for test: {sum(test_pred)} ')\n",
        "print(f'Mean accuracy for test:              {svc.score(X_test,y_test)}')\n",
        "print(f'Confusion matrix for test: \\n{confusion_matrix(y_test, svc.predict(X_test))}')"
      ],
      "execution_count": null,
      "outputs": [
        {
          "output_type": "stream",
          "text": [
            "Number of peak(s) detected for train: 5\n",
            "Mean accuracy for train:              0.9883720930232558\n",
            "Confusion matrix for train: \n",
            "[[80  0]\n",
            " [ 1  5]]\n",
            "Number of peak(s) detected for test: 0 \n",
            "Mean accuracy for test:              0.8\n",
            "Confusion matrix for test: \n",
            "[[8 0]\n",
            " [2 0]]\n"
          ],
          "name": "stdout"
        }
      ]
    },
    {
      "cell_type": "code",
      "metadata": {
        "colab": {
          "base_uri": "https://localhost:8080/"
        },
        "id": "QVVTpCqC0OC4",
        "outputId": "01a0f96d-6cba-46e2-ed23-fef9505be045"
      },
      "source": [
        "svc = SVC(kernel='poly',degree=7,gamma='scale',C=10000)\n",
        "svc.fit(X_train,y_train)\n",
        "train_pred = svc.predict(X_train)\n",
        "print(f'Number of peak(s) detected for train: {sum(train_pred)}')\n",
        "print(f'Mean accuracy for train:              {svc.score(X_train,y_train)}')\n",
        "print(f'Confusion matrix for train: \\n{confusion_matrix(y_train, svc.predict(X_train))}')\n",
        "test_pred = svc.predict(X_test)\n",
        "print(f'Number of peak(s) detected for test: {sum(test_pred)} ')\n",
        "print(f'Mean accuracy for test:              {svc.score(X_test,y_test)}')\n",
        "print(f'Confusion matrix for test: \\n{confusion_matrix(y_test, svc.predict(X_test))}')"
      ],
      "execution_count": null,
      "outputs": [
        {
          "output_type": "stream",
          "text": [
            "Number of peak(s) detected for train: 5\n",
            "Mean accuracy for train:              0.9883720930232558\n",
            "Confusion matrix for train: \n",
            "[[80  0]\n",
            " [ 1  5]]\n",
            "Number of peak(s) detected for test: 2 \n",
            "Mean accuracy for test:              0.8\n",
            "Confusion matrix for test: \n",
            "[[7 1]\n",
            " [1 1]]\n"
          ],
          "name": "stdout"
        }
      ]
    },
    {
      "cell_type": "code",
      "metadata": {
        "colab": {
          "base_uri": "https://localhost:8080/"
        },
        "id": "ZGoJaCLoG89-",
        "outputId": "5f3bf31d-44ee-4321-f55f-c203e312c307"
      },
      "source": [
        "svc = SVC(kernel='poly',degree=7,gamma='scale',C=10000, coef0=0.5)\n",
        "svc.fit(X_train,y_train)\n",
        "train_pred = svc.predict(X_train)\n",
        "print(f'Number of peak(s) detected for train: {sum(train_pred)}')\n",
        "print(f'Mean accuracy for train:              {svc.score(X_train,y_train)}')\n",
        "print(f'Confusion matrix for train: \\n{confusion_matrix(y_train, svc.predict(X_train))}')\n",
        "test_pred = svc.predict(X_test)\n",
        "print(f'Number of peak(s) detected for test: {sum(test_pred)} ')\n",
        "print(f'Mean accuracy for test:              {svc.score(X_test,y_test)}')\n",
        "print(f'Confusion matrix for test: \\n{confusion_matrix(y_test, svc.predict(X_test))}')"
      ],
      "execution_count": null,
      "outputs": [
        {
          "output_type": "stream",
          "text": [
            "Number of peak(s) detected for train: 6\n",
            "Mean accuracy for train:              1.0\n",
            "Confusion matrix for train: \n",
            "[[80  0]\n",
            " [ 0  6]]\n",
            "Number of peak(s) detected for test: 1 \n",
            "Mean accuracy for test:              0.9\n",
            "Confusion matrix for test: \n",
            "[[8 0]\n",
            " [1 1]]\n"
          ],
          "name": "stdout"
        }
      ]
    },
    {
      "cell_type": "code",
      "metadata": {
        "colab": {
          "base_uri": "https://localhost:8080/"
        },
        "id": "xne1xaTEHRnw",
        "outputId": "423a9bd0-11bc-4b36-b932-bc7eb92a3ab8"
      },
      "source": [
        "for coef in np.arange(0.05,1.01,0.05):\n",
        "  print(f'\\nCoef0: {coef}')\n",
        "  print('='*55)\n",
        "  svc = SVC(kernel='poly', degree=7, coef0=coef)\n",
        "  svc.fit(X_train,y_train)\n",
        "  train_pred = svc.predict(X_train)\n",
        "  print(f'Number of peak(s) detected for train: {sum(train_pred)}')\n",
        "  print(f'Mean accuracy for train:              {svc.score(X_train,y_train)}')\n",
        "  print(f'Confusion matrix for train: \\n{confusion_matrix(y_train, svc.predict(X_train))}')\n",
        "  test_pred = svc.predict(X_test)\n",
        "  print(f'Number of peak(s) detected for test: {sum(test_pred)} ')\n",
        "  print(f'Mean accuracy for test:              {svc.score(X_test,y_test)}')\n",
        "  print(f'Confusion matrix for test: \\n{confusion_matrix(y_test, svc.predict(X_test))}')\n",
        "  print('='*55)"
      ],
      "execution_count": null,
      "outputs": [
        {
          "output_type": "stream",
          "text": [
            "\n",
            "Coef0: 0.05\n",
            "=======================================================\n",
            "Number of peak(s) detected for train: 5\n",
            "Mean accuracy for train:              0.9883720930232558\n",
            "Confusion matrix for train: \n",
            "[[80  0]\n",
            " [ 1  5]]\n",
            "Number of peak(s) detected for test: 0 \n",
            "Mean accuracy for test:              0.8\n",
            "Confusion matrix for test: \n",
            "[[8 0]\n",
            " [2 0]]\n",
            "=======================================================\n",
            "\n",
            "Coef0: 0.1\n",
            "=======================================================\n",
            "Number of peak(s) detected for train: 5\n",
            "Mean accuracy for train:              0.9883720930232558\n",
            "Confusion matrix for train: \n",
            "[[80  0]\n",
            " [ 1  5]]\n",
            "Number of peak(s) detected for test: 0 \n",
            "Mean accuracy for test:              0.8\n",
            "Confusion matrix for test: \n",
            "[[8 0]\n",
            " [2 0]]\n",
            "=======================================================\n",
            "\n",
            "Coef0: 0.15000000000000002\n",
            "=======================================================\n",
            "Number of peak(s) detected for train: 5\n",
            "Mean accuracy for train:              0.9883720930232558\n",
            "Confusion matrix for train: \n",
            "[[80  0]\n",
            " [ 1  5]]\n",
            "Number of peak(s) detected for test: 0 \n",
            "Mean accuracy for test:              0.8\n",
            "Confusion matrix for test: \n",
            "[[8 0]\n",
            " [2 0]]\n",
            "=======================================================\n",
            "\n",
            "Coef0: 0.2\n",
            "=======================================================\n",
            "Number of peak(s) detected for train: 5\n",
            "Mean accuracy for train:              0.9883720930232558\n",
            "Confusion matrix for train: \n",
            "[[80  0]\n",
            " [ 1  5]]\n",
            "Number of peak(s) detected for test: 0 \n",
            "Mean accuracy for test:              0.8\n",
            "Confusion matrix for test: \n",
            "[[8 0]\n",
            " [2 0]]\n",
            "=======================================================\n",
            "\n",
            "Coef0: 0.25\n",
            "=======================================================\n",
            "Number of peak(s) detected for train: 5\n",
            "Mean accuracy for train:              0.9883720930232558\n",
            "Confusion matrix for train: \n",
            "[[80  0]\n",
            " [ 1  5]]\n",
            "Number of peak(s) detected for test: 0 \n",
            "Mean accuracy for test:              0.8\n",
            "Confusion matrix for test: \n",
            "[[8 0]\n",
            " [2 0]]\n",
            "=======================================================\n",
            "\n",
            "Coef0: 0.3\n",
            "=======================================================\n",
            "Number of peak(s) detected for train: 5\n",
            "Mean accuracy for train:              0.9883720930232558\n",
            "Confusion matrix for train: \n",
            "[[80  0]\n",
            " [ 1  5]]\n",
            "Number of peak(s) detected for test: 0 \n",
            "Mean accuracy for test:              0.8\n",
            "Confusion matrix for test: \n",
            "[[8 0]\n",
            " [2 0]]\n",
            "=======================================================\n",
            "\n",
            "Coef0: 0.35000000000000003\n",
            "=======================================================\n",
            "Number of peak(s) detected for train: 5\n",
            "Mean accuracy for train:              0.9883720930232558\n",
            "Confusion matrix for train: \n",
            "[[80  0]\n",
            " [ 1  5]]\n",
            "Number of peak(s) detected for test: 0 \n",
            "Mean accuracy for test:              0.8\n",
            "Confusion matrix for test: \n",
            "[[8 0]\n",
            " [2 0]]\n",
            "=======================================================\n",
            "\n",
            "Coef0: 0.4\n",
            "=======================================================\n",
            "Number of peak(s) detected for train: 5\n",
            "Mean accuracy for train:              0.9883720930232558\n",
            "Confusion matrix for train: \n",
            "[[80  0]\n",
            " [ 1  5]]\n",
            "Number of peak(s) detected for test: 0 \n",
            "Mean accuracy for test:              0.8\n",
            "Confusion matrix for test: \n",
            "[[8 0]\n",
            " [2 0]]\n",
            "=======================================================\n",
            "\n",
            "Coef0: 0.45\n",
            "=======================================================\n",
            "Number of peak(s) detected for train: 5\n",
            "Mean accuracy for train:              0.9883720930232558\n",
            "Confusion matrix for train: \n",
            "[[80  0]\n",
            " [ 1  5]]\n",
            "Number of peak(s) detected for test: 0 \n",
            "Mean accuracy for test:              0.8\n",
            "Confusion matrix for test: \n",
            "[[8 0]\n",
            " [2 0]]\n",
            "=======================================================\n",
            "\n",
            "Coef0: 0.5\n",
            "=======================================================\n",
            "Number of peak(s) detected for train: 5\n",
            "Mean accuracy for train:              0.9883720930232558\n",
            "Confusion matrix for train: \n",
            "[[80  0]\n",
            " [ 1  5]]\n",
            "Number of peak(s) detected for test: 0 \n",
            "Mean accuracy for test:              0.8\n",
            "Confusion matrix for test: \n",
            "[[8 0]\n",
            " [2 0]]\n",
            "=======================================================\n",
            "\n",
            "Coef0: 0.55\n",
            "=======================================================\n",
            "Number of peak(s) detected for train: 5\n",
            "Mean accuracy for train:              0.9883720930232558\n",
            "Confusion matrix for train: \n",
            "[[80  0]\n",
            " [ 1  5]]\n",
            "Number of peak(s) detected for test: 0 \n",
            "Mean accuracy for test:              0.8\n",
            "Confusion matrix for test: \n",
            "[[8 0]\n",
            " [2 0]]\n",
            "=======================================================\n",
            "\n",
            "Coef0: 0.6000000000000001\n",
            "=======================================================\n",
            "Number of peak(s) detected for train: 5\n",
            "Mean accuracy for train:              0.9883720930232558\n",
            "Confusion matrix for train: \n",
            "[[80  0]\n",
            " [ 1  5]]\n",
            "Number of peak(s) detected for test: 0 \n",
            "Mean accuracy for test:              0.8\n",
            "Confusion matrix for test: \n",
            "[[8 0]\n",
            " [2 0]]\n",
            "=======================================================\n",
            "\n",
            "Coef0: 0.6500000000000001\n",
            "=======================================================\n",
            "Number of peak(s) detected for train: 5\n",
            "Mean accuracy for train:              0.9883720930232558\n",
            "Confusion matrix for train: \n",
            "[[80  0]\n",
            " [ 1  5]]\n",
            "Number of peak(s) detected for test: 0 \n",
            "Mean accuracy for test:              0.8\n",
            "Confusion matrix for test: \n",
            "[[8 0]\n",
            " [2 0]]\n",
            "=======================================================\n",
            "\n",
            "Coef0: 0.7000000000000001\n",
            "=======================================================\n",
            "Number of peak(s) detected for train: 5\n",
            "Mean accuracy for train:              0.9883720930232558\n",
            "Confusion matrix for train: \n",
            "[[80  0]\n",
            " [ 1  5]]\n",
            "Number of peak(s) detected for test: 0 \n",
            "Mean accuracy for test:              0.8\n",
            "Confusion matrix for test: \n",
            "[[8 0]\n",
            " [2 0]]\n",
            "=======================================================\n",
            "\n",
            "Coef0: 0.7500000000000001\n",
            "=======================================================\n",
            "Number of peak(s) detected for train: 5\n",
            "Mean accuracy for train:              0.9883720930232558\n",
            "Confusion matrix for train: \n",
            "[[80  0]\n",
            " [ 1  5]]\n",
            "Number of peak(s) detected for test: 0 \n",
            "Mean accuracy for test:              0.8\n",
            "Confusion matrix for test: \n",
            "[[8 0]\n",
            " [2 0]]\n",
            "=======================================================\n",
            "\n",
            "Coef0: 0.8\n",
            "=======================================================\n",
            "Number of peak(s) detected for train: 5\n",
            "Mean accuracy for train:              0.9883720930232558\n",
            "Confusion matrix for train: \n",
            "[[80  0]\n",
            " [ 1  5]]\n",
            "Number of peak(s) detected for test: 0 \n",
            "Mean accuracy for test:              0.8\n",
            "Confusion matrix for test: \n",
            "[[8 0]\n",
            " [2 0]]\n",
            "=======================================================\n",
            "\n",
            "Coef0: 0.8500000000000001\n",
            "=======================================================\n",
            "Number of peak(s) detected for train: 6\n",
            "Mean accuracy for train:              0.9767441860465116\n",
            "Confusion matrix for train: \n",
            "[[79  1]\n",
            " [ 1  5]]\n",
            "Number of peak(s) detected for test: 0 \n",
            "Mean accuracy for test:              0.8\n",
            "Confusion matrix for test: \n",
            "[[8 0]\n",
            " [2 0]]\n",
            "=======================================================\n",
            "\n",
            "Coef0: 0.9000000000000001\n",
            "=======================================================\n",
            "Number of peak(s) detected for train: 6\n",
            "Mean accuracy for train:              0.9767441860465116\n",
            "Confusion matrix for train: \n",
            "[[79  1]\n",
            " [ 1  5]]\n",
            "Number of peak(s) detected for test: 0 \n",
            "Mean accuracy for test:              0.8\n",
            "Confusion matrix for test: \n",
            "[[8 0]\n",
            " [2 0]]\n",
            "=======================================================\n",
            "\n",
            "Coef0: 0.9500000000000001\n",
            "=======================================================\n",
            "Number of peak(s) detected for train: 6\n",
            "Mean accuracy for train:              0.9767441860465116\n",
            "Confusion matrix for train: \n",
            "[[79  1]\n",
            " [ 1  5]]\n",
            "Number of peak(s) detected for test: 1 \n",
            "Mean accuracy for test:              0.9\n",
            "Confusion matrix for test: \n",
            "[[8 0]\n",
            " [1 1]]\n",
            "=======================================================\n",
            "\n",
            "Coef0: 1.0\n",
            "=======================================================\n",
            "Number of peak(s) detected for train: 6\n",
            "Mean accuracy for train:              0.9767441860465116\n",
            "Confusion matrix for train: \n",
            "[[79  1]\n",
            " [ 1  5]]\n",
            "Number of peak(s) detected for test: 1 \n",
            "Mean accuracy for test:              0.9\n",
            "Confusion matrix for test: \n",
            "[[8 0]\n",
            " [1 1]]\n",
            "=======================================================\n"
          ],
          "name": "stdout"
        }
      ]
    },
    {
      "cell_type": "code",
      "metadata": {
        "colab": {
          "base_uri": "https://localhost:8080/"
        },
        "id": "Dd-6le_mH5VH",
        "outputId": "5304c766-41c5-4b0d-e8ef-37686b326659"
      },
      "source": [
        "svc = SVC(kernel='poly',degree=7,gamma='scale', coef0=1)\n",
        "svc.fit(X_train,y_train)\n",
        "train_pred = svc.predict(X_train)\n",
        "print(f'Number of peak(s) detected for train: {sum(train_pred)}')\n",
        "print(f'Mean accuracy for train:              {svc.score(X_train,y_train)}')\n",
        "print(f'Confusion matrix for train: \\n{confusion_matrix(y_train, svc.predict(X_train))}')\n",
        "test_pred = svc.predict(X_test)\n",
        "print(f'Number of peak(s) detected for test: {sum(test_pred)} ')\n",
        "print(f'Mean accuracy for test:              {svc.score(X_test,y_test)}')\n",
        "print(f'Confusion matrix for test: \\n{confusion_matrix(y_test, svc.predict(X_test))}')"
      ],
      "execution_count": null,
      "outputs": [
        {
          "output_type": "stream",
          "text": [
            "Number of peak(s) detected for train: 6\n",
            "Mean accuracy for train:              0.9767441860465116\n",
            "Confusion matrix for train: \n",
            "[[79  1]\n",
            " [ 1  5]]\n",
            "Number of peak(s) detected for test: 1 \n",
            "Mean accuracy for test:              0.9\n",
            "Confusion matrix for test: \n",
            "[[8 0]\n",
            " [1 1]]\n"
          ],
          "name": "stdout"
        }
      ]
    },
    {
      "cell_type": "code",
      "metadata": {
        "colab": {
          "base_uri": "https://localhost:8080/"
        },
        "id": "WEXvEzXTKhR3",
        "outputId": "eb48e0a4-b223-4c29-be3e-8291de34cc2e"
      },
      "source": [
        "for coef in np.arange(0.05,1.01,0.05):\n",
        "  print(f'\\nCoef0: {coef}')\n",
        "  print('='*55)\n",
        "  svc = SVC(kernel='poly', degree=7, coef0=coef, C=10)\n",
        "  svc.fit(X_train,y_train)\n",
        "  train_pred = svc.predict(X_train)\n",
        "  print(f'Number of peak(s) detected for train: {sum(train_pred)}')\n",
        "  print(f'Mean accuracy for train:              {svc.score(X_train,y_train)}')\n",
        "  print(f'Confusion matrix for train: \\n{confusion_matrix(y_train, svc.predict(X_train))}')\n",
        "  test_pred = svc.predict(X_test)\n",
        "  print(f'Number of peak(s) detected for test: {sum(test_pred)} ')\n",
        "  print(f'Mean accuracy for test:              {svc.score(X_test,y_test)}')\n",
        "  print(f'Confusion matrix for test: \\n{confusion_matrix(y_test, svc.predict(X_test))}')\n",
        "  print('='*55)"
      ],
      "execution_count": null,
      "outputs": [
        {
          "output_type": "stream",
          "text": [
            "\n",
            "Coef0: 0.05\n",
            "=======================================================\n",
            "Number of peak(s) detected for train: 5\n",
            "Mean accuracy for train:              0.9883720930232558\n",
            "Confusion matrix for train: \n",
            "[[80  0]\n",
            " [ 1  5]]\n",
            "Number of peak(s) detected for test: 0 \n",
            "Mean accuracy for test:              0.8\n",
            "Confusion matrix for test: \n",
            "[[8 0]\n",
            " [2 0]]\n",
            "=======================================================\n",
            "\n",
            "Coef0: 0.1\n",
            "=======================================================\n",
            "Number of peak(s) detected for train: 5\n",
            "Mean accuracy for train:              0.9883720930232558\n",
            "Confusion matrix for train: \n",
            "[[80  0]\n",
            " [ 1  5]]\n",
            "Number of peak(s) detected for test: 0 \n",
            "Mean accuracy for test:              0.8\n",
            "Confusion matrix for test: \n",
            "[[8 0]\n",
            " [2 0]]\n",
            "=======================================================\n",
            "\n",
            "Coef0: 0.15000000000000002\n",
            "=======================================================\n",
            "Number of peak(s) detected for train: 5\n",
            "Mean accuracy for train:              0.9883720930232558\n",
            "Confusion matrix for train: \n",
            "[[80  0]\n",
            " [ 1  5]]\n",
            "Number of peak(s) detected for test: 0 \n",
            "Mean accuracy for test:              0.8\n",
            "Confusion matrix for test: \n",
            "[[8 0]\n",
            " [2 0]]\n",
            "=======================================================\n",
            "\n",
            "Coef0: 0.2\n",
            "=======================================================\n",
            "Number of peak(s) detected for train: 5\n",
            "Mean accuracy for train:              0.9883720930232558\n",
            "Confusion matrix for train: \n",
            "[[80  0]\n",
            " [ 1  5]]\n",
            "Number of peak(s) detected for test: 0 \n",
            "Mean accuracy for test:              0.8\n",
            "Confusion matrix for test: \n",
            "[[8 0]\n",
            " [2 0]]\n",
            "=======================================================\n",
            "\n",
            "Coef0: 0.25\n",
            "=======================================================\n",
            "Number of peak(s) detected for train: 5\n",
            "Mean accuracy for train:              0.9883720930232558\n",
            "Confusion matrix for train: \n",
            "[[80  0]\n",
            " [ 1  5]]\n",
            "Number of peak(s) detected for test: 0 \n",
            "Mean accuracy for test:              0.8\n",
            "Confusion matrix for test: \n",
            "[[8 0]\n",
            " [2 0]]\n",
            "=======================================================\n",
            "\n",
            "Coef0: 0.3\n",
            "=======================================================\n",
            "Number of peak(s) detected for train: 5\n",
            "Mean accuracy for train:              0.9883720930232558\n",
            "Confusion matrix for train: \n",
            "[[80  0]\n",
            " [ 1  5]]\n",
            "Number of peak(s) detected for test: 0 \n",
            "Mean accuracy for test:              0.8\n",
            "Confusion matrix for test: \n",
            "[[8 0]\n",
            " [2 0]]\n",
            "=======================================================\n",
            "\n",
            "Coef0: 0.35000000000000003\n",
            "=======================================================\n",
            "Number of peak(s) detected for train: 5\n",
            "Mean accuracy for train:              0.9883720930232558\n",
            "Confusion matrix for train: \n",
            "[[80  0]\n",
            " [ 1  5]]\n",
            "Number of peak(s) detected for test: 0 \n",
            "Mean accuracy for test:              0.8\n",
            "Confusion matrix for test: \n",
            "[[8 0]\n",
            " [2 0]]\n",
            "=======================================================\n",
            "\n",
            "Coef0: 0.4\n",
            "=======================================================\n",
            "Number of peak(s) detected for train: 5\n",
            "Mean accuracy for train:              0.9883720930232558\n",
            "Confusion matrix for train: \n",
            "[[80  0]\n",
            " [ 1  5]]\n",
            "Number of peak(s) detected for test: 0 \n",
            "Mean accuracy for test:              0.8\n",
            "Confusion matrix for test: \n",
            "[[8 0]\n",
            " [2 0]]\n",
            "=======================================================\n",
            "\n",
            "Coef0: 0.45\n",
            "=======================================================\n",
            "Number of peak(s) detected for train: 6\n",
            "Mean accuracy for train:              0.9767441860465116\n",
            "Confusion matrix for train: \n",
            "[[79  1]\n",
            " [ 1  5]]\n",
            "Number of peak(s) detected for test: 0 \n",
            "Mean accuracy for test:              0.8\n",
            "Confusion matrix for test: \n",
            "[[8 0]\n",
            " [2 0]]\n",
            "=======================================================\n",
            "\n",
            "Coef0: 0.5\n",
            "=======================================================\n",
            "Number of peak(s) detected for train: 6\n",
            "Mean accuracy for train:              0.9767441860465116\n",
            "Confusion matrix for train: \n",
            "[[79  1]\n",
            " [ 1  5]]\n",
            "Number of peak(s) detected for test: 1 \n",
            "Mean accuracy for test:              0.9\n",
            "Confusion matrix for test: \n",
            "[[8 0]\n",
            " [1 1]]\n",
            "=======================================================\n",
            "\n",
            "Coef0: 0.55\n",
            "=======================================================\n",
            "Number of peak(s) detected for train: 6\n",
            "Mean accuracy for train:              0.9767441860465116\n",
            "Confusion matrix for train: \n",
            "[[79  1]\n",
            " [ 1  5]]\n",
            "Number of peak(s) detected for test: 1 \n",
            "Mean accuracy for test:              0.9\n",
            "Confusion matrix for test: \n",
            "[[8 0]\n",
            " [1 1]]\n",
            "=======================================================\n",
            "\n",
            "Coef0: 0.6000000000000001\n",
            "=======================================================\n",
            "Number of peak(s) detected for train: 7\n",
            "Mean accuracy for train:              0.9883720930232558\n",
            "Confusion matrix for train: \n",
            "[[79  1]\n",
            " [ 0  6]]\n",
            "Number of peak(s) detected for test: 1 \n",
            "Mean accuracy for test:              0.9\n",
            "Confusion matrix for test: \n",
            "[[8 0]\n",
            " [1 1]]\n",
            "=======================================================\n",
            "\n",
            "Coef0: 0.6500000000000001\n",
            "=======================================================\n",
            "Number of peak(s) detected for train: 7\n",
            "Mean accuracy for train:              0.9883720930232558\n",
            "Confusion matrix for train: \n",
            "[[79  1]\n",
            " [ 0  6]]\n",
            "Number of peak(s) detected for test: 1 \n",
            "Mean accuracy for test:              0.9\n",
            "Confusion matrix for test: \n",
            "[[8 0]\n",
            " [1 1]]\n",
            "=======================================================\n",
            "\n",
            "Coef0: 0.7000000000000001\n",
            "=======================================================\n",
            "Number of peak(s) detected for train: 7\n",
            "Mean accuracy for train:              0.9883720930232558\n",
            "Confusion matrix for train: \n",
            "[[79  1]\n",
            " [ 0  6]]\n",
            "Number of peak(s) detected for test: 2 \n",
            "Mean accuracy for test:              1.0\n",
            "Confusion matrix for test: \n",
            "[[8 0]\n",
            " [0 2]]\n",
            "=======================================================\n",
            "\n",
            "Coef0: 0.7500000000000001\n",
            "=======================================================\n",
            "Number of peak(s) detected for train: 7\n",
            "Mean accuracy for train:              0.9883720930232558\n",
            "Confusion matrix for train: \n",
            "[[79  1]\n",
            " [ 0  6]]\n",
            "Number of peak(s) detected for test: 2 \n",
            "Mean accuracy for test:              1.0\n",
            "Confusion matrix for test: \n",
            "[[8 0]\n",
            " [0 2]]\n",
            "=======================================================\n",
            "\n",
            "Coef0: 0.8\n",
            "=======================================================\n",
            "Number of peak(s) detected for train: 7\n",
            "Mean accuracy for train:              0.9883720930232558\n",
            "Confusion matrix for train: \n",
            "[[79  1]\n",
            " [ 0  6]]\n",
            "Number of peak(s) detected for test: 2 \n",
            "Mean accuracy for test:              1.0\n",
            "Confusion matrix for test: \n",
            "[[8 0]\n",
            " [0 2]]\n",
            "=======================================================\n",
            "\n",
            "Coef0: 0.8500000000000001\n",
            "=======================================================\n",
            "Number of peak(s) detected for train: 7\n",
            "Mean accuracy for train:              0.9883720930232558\n",
            "Confusion matrix for train: \n",
            "[[79  1]\n",
            " [ 0  6]]\n",
            "Number of peak(s) detected for test: 2 \n",
            "Mean accuracy for test:              1.0\n",
            "Confusion matrix for test: \n",
            "[[8 0]\n",
            " [0 2]]\n",
            "=======================================================\n",
            "\n",
            "Coef0: 0.9000000000000001\n",
            "=======================================================\n",
            "Number of peak(s) detected for train: 7\n",
            "Mean accuracy for train:              0.9883720930232558\n",
            "Confusion matrix for train: \n",
            "[[79  1]\n",
            " [ 0  6]]\n",
            "Number of peak(s) detected for test: 2 \n",
            "Mean accuracy for test:              1.0\n",
            "Confusion matrix for test: \n",
            "[[8 0]\n",
            " [0 2]]\n",
            "=======================================================\n",
            "\n",
            "Coef0: 0.9500000000000001\n",
            "=======================================================\n",
            "Number of peak(s) detected for train: 7\n",
            "Mean accuracy for train:              0.9883720930232558\n",
            "Confusion matrix for train: \n",
            "[[79  1]\n",
            " [ 0  6]]\n",
            "Number of peak(s) detected for test: 2 \n",
            "Mean accuracy for test:              1.0\n",
            "Confusion matrix for test: \n",
            "[[8 0]\n",
            " [0 2]]\n",
            "=======================================================\n",
            "\n",
            "Coef0: 1.0\n",
            "=======================================================\n",
            "Number of peak(s) detected for train: 7\n",
            "Mean accuracy for train:              0.9883720930232558\n",
            "Confusion matrix for train: \n",
            "[[79  1]\n",
            " [ 0  6]]\n",
            "Number of peak(s) detected for test: 2 \n",
            "Mean accuracy for test:              1.0\n",
            "Confusion matrix for test: \n",
            "[[8 0]\n",
            " [0 2]]\n",
            "=======================================================\n"
          ],
          "name": "stdout"
        }
      ]
    },
    {
      "cell_type": "code",
      "metadata": {
        "colab": {
          "base_uri": "https://localhost:8080/"
        },
        "id": "ldMqrYdLK1l2",
        "outputId": "165bdb46-3cf6-49f4-a062-2bdd79854934"
      },
      "source": [
        "svc = SVC(kernel='poly',degree=7,gamma='scale', coef0=0.7, C=10)\n",
        "svc.fit(X_train,y_train)\n",
        "train_pred = svc.predict(X_train)\n",
        "print(f'Number of peak(s) detected for train: {sum(train_pred)}')\n",
        "print(f'Mean accuracy for train:              {svc.score(X_train,y_train)}')\n",
        "print(f'Confusion matrix for train: \\n{confusion_matrix(y_train, svc.predict(X_train))}')\n",
        "test_pred = svc.predict(X_test)\n",
        "print(f'Number of peak(s) detected for test: {sum(test_pred)} ')\n",
        "print(f'Mean accuracy for test:              {svc.score(X_test,y_test)}')\n",
        "print(f'Confusion matrix for test: \\n{confusion_matrix(y_test, svc.predict(X_test))}')"
      ],
      "execution_count": null,
      "outputs": [
        {
          "output_type": "stream",
          "text": [
            "Number of peak(s) detected for train: 7\n",
            "Mean accuracy for train:              0.9883720930232558\n",
            "Confusion matrix for train: \n",
            "[[79  1]\n",
            " [ 0  6]]\n",
            "Number of peak(s) detected for test: 2 \n",
            "Mean accuracy for test:              1.0\n",
            "Confusion matrix for test: \n",
            "[[8 0]\n",
            " [0 2]]\n"
          ],
          "name": "stdout"
        }
      ]
    },
    {
      "cell_type": "code",
      "metadata": {
        "colab": {
          "base_uri": "https://localhost:8080/"
        },
        "id": "lFLD8fdALae5",
        "outputId": "097d8235-da32-4c5d-d0ef-3b66beafd6b0"
      },
      "source": [
        "svc.support_vectors_"
      ],
      "execution_count": null,
      "outputs": [
        {
          "output_type": "execute_result",
          "data": {
            "text/plain": [
              "array([[-2361.09149536,  5166.50142799],\n",
              "       [ 2078.72823052,  4583.43213756],\n",
              "       [-1420.76011054,  5326.31020362],\n",
              "       [ -942.78893308,  2433.13805558],\n",
              "       [-1618.06526315,  6110.38345434],\n",
              "       [-1289.15354673,  4917.80977199]])"
            ]
          },
          "metadata": {
            "tags": []
          },
          "execution_count": 60
        }
      ]
    },
    {
      "cell_type": "code",
      "metadata": {
        "colab": {
          "base_uri": "https://localhost:8080/",
          "height": 500
        },
        "id": "RqYP_U1qLqKm",
        "outputId": "c8268880-b116-4835-99a5-dbc759fd629d"
      },
      "source": [
        "plt.figure(figsize=(10,8))\n",
        "plt.scatter(X_train.iloc[:, 0], X_train.iloc[:, 1], c=y_train, s=50)\n",
        "plt.scatter(svc.support_vectors_[:,0],svc.support_vectors_[:,1], c='r')"
      ],
      "execution_count": null,
      "outputs": [
        {
          "output_type": "execute_result",
          "data": {
            "text/plain": [
              "<matplotlib.collections.PathCollection at 0x7f23cb4f8450>"
            ]
          },
          "metadata": {
            "tags": []
          },
          "execution_count": 61
        },
        {
          "output_type": "display_data",
          "data": {
            "image/png": "[encoded data removed]",
            "text/plain": [
              "<Figure size 720x576 with 1 Axes>"
            ]
          },
          "metadata": {
            "tags": [],
            "needs_background": "light"
          }
        }
      ]
    },
    {
      "cell_type": "code",
      "metadata": {
        "colab": {
          "base_uri": "https://localhost:8080/",
          "height": 265
        },
        "id": "-w-EwQH-Ozxv",
        "outputId": "eed54e03-4c17-4f28-e125-2cbc207b7bf8"
      },
      "source": [
        "ax = plt.gca()\n",
        "plt.scatter(X_train.iloc[:, 0], X_train.iloc[:, 1], c=y_train, s=50,)\n",
        "xlim = ax.get_xlim()\n",
        "ylim = ax.get_ylim()\n",
        "\n",
        "xx = np.linspace(xlim[0], xlim[1], 30)\n",
        "yy = np.linspace(ylim[0], ylim[1], 30)\n",
        "YY, XX = np.meshgrid(yy, xx)\n",
        "xy = np.vstack([XX.ravel(), YY.ravel()]).T\n",
        "Z = svc.decision_function(xy).reshape(XX.shape)\n",
        "\n",
        "ax.contour(XX, YY, Z, colors='k', levels=[-1, 0, 1], alpha=0.5,\n",
        "           linestyles=['--', '-', '--'])\n",
        "\n",
        "ax.scatter(svc.support_vectors_[:, 0], svc.support_vectors_[:, 1], s=100,\n",
        "           linewidth=1, facecolors='none', edgecolors='k')\n",
        "plt.show()"
      ],
      "execution_count": null,
      "outputs": [
        {
          "output_type": "display_data",
          "data": {
            "image/png": "[encoded data removed]",
            "text/plain": [
              "<Figure size 432x288 with 1 Axes>"
            ]
          },
          "metadata": {
            "tags": [],
            "needs_background": "light"
          }
        }
      ]
    },
    {
      "cell_type": "code",
      "metadata": {
        "colab": {
          "base_uri": "https://localhost:8080/",
          "height": 500
        },
        "id": "840yJwQ3O3Vt",
        "outputId": "6778b3a7-86b6-44c8-a39e-d2f1a0f9c0e2"
      },
      "source": [
        "plt.figure(figsize=(10,8))\n",
        "plt.scatter(X_test.iloc[:, 0], X_test.iloc[:, 1], c=y_test, s=50)\n",
        "plt.scatter(svc.support_vectors_[:,0],svc.support_vectors_[:,1], c='r')"
      ],
      "execution_count": null,
      "outputs": [
        {
          "output_type": "execute_result",
          "data": {
            "text/plain": [
              "<matplotlib.collections.PathCollection at 0x7f23cce8b710>"
            ]
          },
          "metadata": {
            "tags": []
          },
          "execution_count": 63
        },
        {
          "output_type": "display_data",
          "data": {
            "image/png": "[encoded data removed]",
            "text/plain": [
              "<Figure size 720x576 with 1 Axes>"
            ]
          },
          "metadata": {
            "tags": [],
            "needs_background": "light"
          }
        }
      ]
    },
    {
      "cell_type": "code",
      "metadata": {
        "colab": {
          "base_uri": "https://localhost:8080/",
          "height": 265
        },
        "id": "D4WUstlOMO5U",
        "outputId": "f5d0d30d-463c-47be-d45c-cc7d80e9fc59"
      },
      "source": [
        "ax = plt.gca()\n",
        "plt.scatter(X_test.iloc[:, 0], X_test.iloc[:, 1], c=y_test, s=50,)\n",
        "xlim = ax.get_xlim()\n",
        "ylim = ax.get_ylim()\n",
        "\n",
        "xx = np.linspace(xlim[0], xlim[1], 30)\n",
        "yy = np.linspace(ylim[0], ylim[1], 30)\n",
        "YY, XX = np.meshgrid(yy, xx)\n",
        "xy = np.vstack([XX.ravel(), YY.ravel()]).T\n",
        "Z = svc.decision_function(xy).reshape(XX.shape)\n",
        "\n",
        "ax.contour(XX, YY, Z, colors='k', levels=[-1, 0, 1], alpha=0.5,\n",
        "           linestyles=['--', '-', '--'])\n",
        "\n",
        "ax.scatter(svc.support_vectors_[:, 0], svc.support_vectors_[:, 1], s=100,\n",
        "           linewidth=1, facecolors='none', edgecolors='k')\n",
        "plt.show()"
      ],
      "execution_count": null,
      "outputs": [
        {
          "output_type": "display_data",
          "data": {
            "image/png": "[encoded data removed]",
            "text/plain": [
              "<Figure size 432x288 with 1 Axes>"
            ]
          },
          "metadata": {
            "tags": [],
            "needs_background": "light"
          }
        }
      ]
    },
    {
      "cell_type": "code",
      "metadata": {
        "id": "pk8O-5qpnTnu"
      },
      "source": [
        "from sklearn.model_selection import cross_validate"
      ],
      "execution_count": null,
      "outputs": []
    },
    {
      "cell_type": "code",
      "metadata": {
        "id": "FlmszgksoPsu"
      },
      "source": [
        "X = X_train.append(X_test)\n",
        "y = y_train.append(y_test)"
      ],
      "execution_count": null,
      "outputs": []
    },
    {
      "cell_type": "code",
      "metadata": {
        "colab": {
          "base_uri": "https://localhost:8080/"
        },
        "id": "D0jb6xU5ne2W",
        "outputId": "da60517c-8a88-4ec7-c87e-41045e7ca145"
      },
      "source": [
        "cv_results = cross_validate(svc, X, y, cv=8, n_jobs=-1, verbose=2)\n",
        "scores = cv_results['test_score']\n",
        "print(f'Mean accuracy on test set {scores.mean()}, with standard deviation {scores.std()}')"
      ],
      "execution_count": null,
      "outputs": [
        {
          "output_type": "stream",
          "text": [
            "[Parallel(n_jobs=-1)]: Using backend LokyBackend with 2 concurrent workers.\n"
          ],
          "name": "stderr"
        },
        {
          "output_type": "stream",
          "text": [
            "Mean accuracy on test set 0.96875, with standard deviation 0.057997545446146055\n"
          ],
          "name": "stdout"
        },
        {
          "output_type": "stream",
          "text": [
            "[Parallel(n_jobs=-1)]: Done   8 out of   8 | elapsed:    1.3s finished\n"
          ],
          "name": "stderr"
        }
      ]
    }
  ]
}